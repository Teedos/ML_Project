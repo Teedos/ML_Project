{
 "cells": [
  {
   "cell_type": "code",
   "execution_count": 2,
   "metadata": {},
   "outputs": [],
   "source": [
    "import pandas as pd\n",
    "import matplotlib.pyplot as plt\n",
    "import plotly.express as px\n",
    "import numpy as np"
   ]
  },
  {
   "cell_type": "code",
   "execution_count": 26,
   "metadata": {},
   "outputs": [
    {
     "data": {
      "text/html": [
       "<div>\n",
       "<style scoped>\n",
       "    .dataframe tbody tr th:only-of-type {\n",
       "        vertical-align: middle;\n",
       "    }\n",
       "\n",
       "    .dataframe tbody tr th {\n",
       "        vertical-align: top;\n",
       "    }\n",
       "\n",
       "    .dataframe thead th {\n",
       "        text-align: right;\n",
       "    }\n",
       "</style>\n",
       "<table border=\"1\" class=\"dataframe\">\n",
       "  <thead>\n",
       "    <tr style=\"text-align: right;\">\n",
       "      <th></th>\n",
       "      <th>nflId</th>\n",
       "      <th>height</th>\n",
       "      <th>weight</th>\n",
       "      <th>birthDate</th>\n",
       "      <th>collegeName</th>\n",
       "      <th>Position</th>\n",
       "      <th>displayName</th>\n",
       "    </tr>\n",
       "  </thead>\n",
       "  <tbody>\n",
       "    <tr>\n",
       "      <th>0</th>\n",
       "      <td>42901</td>\n",
       "      <td>6-1</td>\n",
       "      <td>208</td>\n",
       "      <td>1992-07-25</td>\n",
       "      <td>James Madison</td>\n",
       "      <td>SS</td>\n",
       "      <td>Dean Marlowe</td>\n",
       "    </tr>\n",
       "    <tr>\n",
       "      <th>1</th>\n",
       "      <td>43501</td>\n",
       "      <td>6-0</td>\n",
       "      <td>220</td>\n",
       "      <td>1994-08-11</td>\n",
       "      <td>Central Michigan</td>\n",
       "      <td>FS</td>\n",
       "      <td>Kavon Frazier</td>\n",
       "    </tr>\n",
       "    <tr>\n",
       "      <th>2</th>\n",
       "      <td>43534</td>\n",
       "      <td>6-0</td>\n",
       "      <td>205</td>\n",
       "      <td>1993-06-02</td>\n",
       "      <td>Illinois</td>\n",
       "      <td>SS</td>\n",
       "      <td>Clayton Fejedelem</td>\n",
       "    </tr>\n",
       "    <tr>\n",
       "      <th>3</th>\n",
       "      <td>43535</td>\n",
       "      <td>6-1</td>\n",
       "      <td>235</td>\n",
       "      <td>1992-12-22</td>\n",
       "      <td>Temple</td>\n",
       "      <td>MLB</td>\n",
       "      <td>Tyler Matakevich</td>\n",
       "    </tr>\n",
       "    <tr>\n",
       "      <th>4</th>\n",
       "      <td>44174</td>\n",
       "      <td>6-1</td>\n",
       "      <td>236</td>\n",
       "      <td>1993-02-22</td>\n",
       "      <td>Texas Tech</td>\n",
       "      <td>ILB</td>\n",
       "      <td>Sam Eguavoen</td>\n",
       "    </tr>\n",
       "    <tr>\n",
       "      <th>...</th>\n",
       "      <td>...</td>\n",
       "      <td>...</td>\n",
       "      <td>...</td>\n",
       "      <td>...</td>\n",
       "      <td>...</td>\n",
       "      <td>...</td>\n",
       "      <td>...</td>\n",
       "    </tr>\n",
       "    <tr>\n",
       "      <th>2727</th>\n",
       "      <td>33216</td>\n",
       "      <td>6-3</td>\n",
       "      <td>320</td>\n",
       "      <td>06/16/1986</td>\n",
       "      <td>Central Florida</td>\n",
       "      <td>G</td>\n",
       "      <td>Josh Sitton</td>\n",
       "    </tr>\n",
       "    <tr>\n",
       "      <th>2728</th>\n",
       "      <td>33184</td>\n",
       "      <td>6-3</td>\n",
       "      <td>265</td>\n",
       "      <td>05/02/1985</td>\n",
       "      <td>Winston-Salem State</td>\n",
       "      <td>DE</td>\n",
       "      <td>William Hayes</td>\n",
       "    </tr>\n",
       "    <tr>\n",
       "      <th>2729</th>\n",
       "      <td>45651</td>\n",
       "      <td>5-9</td>\n",
       "      <td>198</td>\n",
       "      <td>06/16/1993</td>\n",
       "      <td>Iowa</td>\n",
       "      <td>WR</td>\n",
       "      <td>Riley McCarron</td>\n",
       "    </tr>\n",
       "    <tr>\n",
       "      <th>2730</th>\n",
       "      <td>41284</td>\n",
       "      <td>73</td>\n",
       "      <td>230</td>\n",
       "      <td>1992-10-20</td>\n",
       "      <td>LSU</td>\n",
       "      <td>RB</td>\n",
       "      <td>Jeremy Hill</td>\n",
       "    </tr>\n",
       "    <tr>\n",
       "      <th>2731</th>\n",
       "      <td>42849</td>\n",
       "      <td>5-10</td>\n",
       "      <td>205</td>\n",
       "      <td>12/14/1992</td>\n",
       "      <td>Texas Tech</td>\n",
       "      <td>WR</td>\n",
       "      <td>Bradley Marquez</td>\n",
       "    </tr>\n",
       "  </tbody>\n",
       "</table>\n",
       "<p>2732 rows × 7 columns</p>\n",
       "</div>"
      ],
      "text/plain": [
       "      nflId height  weight   birthDate          collegeName Position  \\\n",
       "0     42901    6-1     208  1992-07-25        James Madison       SS   \n",
       "1     43501    6-0     220  1994-08-11     Central Michigan       FS   \n",
       "2     43534    6-0     205  1993-06-02             Illinois       SS   \n",
       "3     43535    6-1     235  1992-12-22               Temple      MLB   \n",
       "4     44174    6-1     236  1993-02-22           Texas Tech      ILB   \n",
       "...     ...    ...     ...         ...                  ...      ...   \n",
       "2727  33216    6-3     320  06/16/1986      Central Florida        G   \n",
       "2728  33184    6-3     265  05/02/1985  Winston-Salem State       DE   \n",
       "2729  45651    5-9     198  06/16/1993                 Iowa       WR   \n",
       "2730  41284     73     230  1992-10-20                  LSU       RB   \n",
       "2731  42849   5-10     205  12/14/1992           Texas Tech       WR   \n",
       "\n",
       "            displayName  \n",
       "0          Dean Marlowe  \n",
       "1         Kavon Frazier  \n",
       "2     Clayton Fejedelem  \n",
       "3      Tyler Matakevich  \n",
       "4          Sam Eguavoen  \n",
       "...                 ...  \n",
       "2727        Josh Sitton  \n",
       "2728      William Hayes  \n",
       "2729     Riley McCarron  \n",
       "2730        Jeremy Hill  \n",
       "2731    Bradley Marquez  \n",
       "\n",
       "[2732 rows x 7 columns]"
      ]
     },
     "execution_count": 26,
     "metadata": {},
     "output_type": "execute_result"
    }
   ],
   "source": [
    "players = 'data/players.csv'\n",
    "players_df = pd.read_csv(players)\n",
    "players_df.fillna(0)"
   ]
  },
  {
   "cell_type": "code",
   "execution_count": 12,
   "metadata": {},
   "outputs": [
    {
     "name": "stdout",
     "output_type": "stream",
     "text": [
      "      nflId  height  weight   age        collegeName Position  \\\n",
      "0     42901  185.42   94.35  29.0      James Madison       SS   \n",
      "2     43534  182.88   92.99  29.0           Illinois       SS   \n",
      "45    40166  182.88   86.64  31.0       Oregon State       SS   \n",
      "77    46378  182.88   91.63  26.0  Mississippi State       SS   \n",
      "115   52939  190.50   95.25  26.0             Temple       SS   \n",
      "...     ...     ...     ...   ...                ...      ...   \n",
      "2565  44862  182.88   90.26  26.0          Texas A&M       SS   \n",
      "2589  35929  187.96   98.88  34.0             Toledo       SS   \n",
      "2684  41381  180.34   88.45  30.0    San Diego State       SS   \n",
      "2707  37175  180.34   92.99  33.0     North Carolina       SS   \n",
      "2712  37168  187.96   92.08  33.0         California       SS   \n",
      "\n",
      "            displayName  \n",
      "0          Dean Marlowe  \n",
      "2     Clayton Fejedelem  \n",
      "45         Jordan Poyer  \n",
      "77            J.T. Gray  \n",
      "115        Sam Franklin  \n",
      "...                 ...  \n",
      "2565       Justin Evans  \n",
      "2589       Barry Church  \n",
      "2684          Nat Berhe  \n",
      "2707   Da'Norris Searcy  \n",
      "2712        Chris Conte  \n",
      "\n",
      "[103 rows x 7 columns]\n"
     ]
    },
    {
     "name": "stderr",
     "output_type": "stream",
     "text": [
      "/var/folders/dw/_fr9bn4s55b_z7cjb3sd9hw00000gn/T/ipykernel_2032/573946071.py:13: SettingWithCopyWarning:\n",
      "\n",
      "\n",
      "A value is trying to be set on a copy of a slice from a DataFrame.\n",
      "Try using .loc[row_indexer,col_indexer] = value instead\n",
      "\n",
      "See the caveats in the documentation: https://pandas.pydata.org/pandas-docs/stable/user_guide/indexing.html#returning-a-view-versus-a-copy\n",
      "\n",
      "/var/folders/dw/_fr9bn4s55b_z7cjb3sd9hw00000gn/T/ipykernel_2032/573946071.py:16: SettingWithCopyWarning:\n",
      "\n",
      "\n",
      "A value is trying to be set on a copy of a slice from a DataFrame.\n",
      "Try using .loc[row_indexer,col_indexer] = value instead\n",
      "\n",
      "See the caveats in the documentation: https://pandas.pydata.org/pandas-docs/stable/user_guide/indexing.html#returning-a-view-versus-a-copy\n",
      "\n"
     ]
    },
    {
     "data": {
      "application/vnd.plotly.v1+json": {
       "config": {
        "plotlyServerURL": "https://plot.ly"
       },
       "data": [
        {
         "alignmentgroup": "True",
         "hovertemplate": "displayName=%{x}<br>height=%{y}<extra></extra>",
         "legendgroup": "",
         "marker": {
          "color": "#636efa",
          "pattern": {
           "shape": ""
          }
         },
         "name": "",
         "offsetgroup": "",
         "orientation": "v",
         "showlegend": false,
         "textposition": "auto",
         "type": "bar",
         "x": [
          "Dean Marlowe",
          "Clayton Fejedelem",
          "Jordan Poyer",
          "J.T. Gray",
          "Sam Franklin",
          "Malcolm Jenkins",
          "Juston Burris",
          "Will Redmond",
          "Sherrick McManis",
          "Eddie Jackson",
          "Anthony Levine",
          "Shawn Williams",
          "Jordan Richards",
          "Vonn Bell",
          "Chuck Clark",
          "Jordan Dangerfield",
          "Jovante Moffatt",
          "Minkah Fitzpatrick",
          "Karl Joseph",
          "Montrel Meander",
          "Will Harris",
          "Harrison Smith",
          "Duron Harmon",
          "Armani Watts",
          "Alohi Gilman",
          "Jaylen Watkins",
          "Cody Davis",
          "Adrian Phillips",
          "J.T. Hassell",
          "Terrence Brooks",
          "Nate Ebner",
          "Donovan Wilson",
          "Jabrill Peppers",
          "Rudy Ford",
          "Blake Countess",
          "Marcus Epps",
          "Andrew Adams",
          "Jordan Whitehead",
          "Jeff Heath",
          "Johnathan Abram",
          "Tavon Wilson",
          "Jarrod Wilson",
          "Deionte Thompson",
          "Budda Baker",
          "Kai Nacua",
          "Marcell Harris",
          "Demetrius Flannigan-Fowles",
          "Chauncey Gardner-Johnson",
          "Rashaan Gaulden",
          "Trey Marshall",
          "Terrell Edmunds",
          "Khari Willis",
          "Jamal Adams",
          "Jalen Mills",
          "Darnell Savage",
          "Rayshawn Jenkins",
          "Jake Gervase",
          "Trayvon Henderson",
          "Justin Reid",
          "T.J. Green",
          "Deshazor Everett",
          "Daniel Thomas",
          "Michael Thomas",
          "Josh Thomas",
          "Taylor Rapp",
          "Johnathan Cyprien",
          "Josh Jones",
          "Dane Cruikshank",
          "Ronnie Harrison",
          "Ashtyn Davis",
          "Terrell Burgess",
          "Elijah Benton",
          "Jaquiski Tartt",
          "Bradley McDougald",
          "Eric Rowe",
          "Damontae Kazee",
          "Delano Hill",
          "Kurt Coleman",
          "Eric Reid",
          "Dee Delaney",
          "Jordan Lucas",
          "Montre Hartage",
          "Patrick Chung",
          "Kenny Vaccaro",
          "Rolan Milligan",
          "Morgan Burnett",
          "Tony Jefferson",
          "Derrick Kindred",
          "Eddie Pleasant",
          "Kentrell Brice",
          "Corey Moore",
          "Godwin Igwebuike",
          "Rafael Bush",
          "Josh Shaw",
          "T.J. McDonald",
          "Tyrann Mathieu",
          "Shamarko Thomas",
          "Landon Collins",
          "Justin Evans",
          "Barry Church",
          "Nat Berhe",
          "Da'Norris Searcy",
          "Chris Conte"
         ],
         "xaxis": "x",
         "y": [
          185.42000000000002,
          182.88,
          182.88,
          182.88,
          190.5,
          182.88,
          182.88,
          180.34,
          180.34,
          182.88,
          180.34,
          182.88,
          180.34,
          180.34,
          182.88,
          180.34,
          182.88,
          185.42000000000002,
          177.8,
          187.96,
          185.42000000000002,
          187.96,
          185.42000000000002,
          180.34,
          180.34,
          180.34,
          187.96,
          180.34,
          180.34,
          180.34,
          182.88,
          182.88,
          180.34,
          182.88,
          177.8,
          182.88,
          180.34,
          177.8,
          185.42000000000002,
          182.88,
          182.88,
          187.96,
          185.42000000000002,
          177.8,
          182.88,
          182.88,
          187.96,
          180.34,
          182.88,
          182.88,
          185.42000000000002,
          180.34,
          185.42000000000002,
          182.88,
          180.34,
          185.42000000000002,
          185.42000000000002,
          182.88,
          185.42000000000002,
          190.5,
          182.88,
          180.34,
          180.34,
          182.88,
          182.88,
          185.42000000000002,
          187.96,
          185.42000000000002,
          190.5,
          185.42000000000002,
          182.88,
          185.42000000000002,
          185.42000000000002,
          185.42000000000002,
          185.42000000000002,
          180.34,
          185.42000000000002,
          180.34,
          185.42000000000002,
          185.42000000000002,
          185.42000000000002,
          182.88,
          180.34,
          182.88,
          177.8,
          185.42000000000002,
          180.34,
          177.8,
          177.8,
          180.34,
          187.96,
          182.88,
          180.34,
          185.42000000000002,
          187.96,
          175.26,
          175.26,
          182.88,
          182.88,
          187.96,
          180.34,
          180.34,
          187.96
         ],
         "yaxis": "y"
        }
       ],
       "layout": {
        "barmode": "relative",
        "legend": {
         "tracegroupgap": 0
        },
        "template": {
         "data": {
          "bar": [
           {
            "error_x": {
             "color": "#2a3f5f"
            },
            "error_y": {
             "color": "#2a3f5f"
            },
            "marker": {
             "line": {
              "color": "#E5ECF6",
              "width": 0.5
             },
             "pattern": {
              "fillmode": "overlay",
              "size": 10,
              "solidity": 0.2
             }
            },
            "type": "bar"
           }
          ],
          "barpolar": [
           {
            "marker": {
             "line": {
              "color": "#E5ECF6",
              "width": 0.5
             },
             "pattern": {
              "fillmode": "overlay",
              "size": 10,
              "solidity": 0.2
             }
            },
            "type": "barpolar"
           }
          ],
          "carpet": [
           {
            "aaxis": {
             "endlinecolor": "#2a3f5f",
             "gridcolor": "white",
             "linecolor": "white",
             "minorgridcolor": "white",
             "startlinecolor": "#2a3f5f"
            },
            "baxis": {
             "endlinecolor": "#2a3f5f",
             "gridcolor": "white",
             "linecolor": "white",
             "minorgridcolor": "white",
             "startlinecolor": "#2a3f5f"
            },
            "type": "carpet"
           }
          ],
          "choropleth": [
           {
            "colorbar": {
             "outlinewidth": 0,
             "ticks": ""
            },
            "type": "choropleth"
           }
          ],
          "contour": [
           {
            "colorbar": {
             "outlinewidth": 0,
             "ticks": ""
            },
            "colorscale": [
             [
              0,
              "#0d0887"
             ],
             [
              0.1111111111111111,
              "#46039f"
             ],
             [
              0.2222222222222222,
              "#7201a8"
             ],
             [
              0.3333333333333333,
              "#9c179e"
             ],
             [
              0.4444444444444444,
              "#bd3786"
             ],
             [
              0.5555555555555556,
              "#d8576b"
             ],
             [
              0.6666666666666666,
              "#ed7953"
             ],
             [
              0.7777777777777778,
              "#fb9f3a"
             ],
             [
              0.8888888888888888,
              "#fdca26"
             ],
             [
              1,
              "#f0f921"
             ]
            ],
            "type": "contour"
           }
          ],
          "contourcarpet": [
           {
            "colorbar": {
             "outlinewidth": 0,
             "ticks": ""
            },
            "type": "contourcarpet"
           }
          ],
          "heatmap": [
           {
            "colorbar": {
             "outlinewidth": 0,
             "ticks": ""
            },
            "colorscale": [
             [
              0,
              "#0d0887"
             ],
             [
              0.1111111111111111,
              "#46039f"
             ],
             [
              0.2222222222222222,
              "#7201a8"
             ],
             [
              0.3333333333333333,
              "#9c179e"
             ],
             [
              0.4444444444444444,
              "#bd3786"
             ],
             [
              0.5555555555555556,
              "#d8576b"
             ],
             [
              0.6666666666666666,
              "#ed7953"
             ],
             [
              0.7777777777777778,
              "#fb9f3a"
             ],
             [
              0.8888888888888888,
              "#fdca26"
             ],
             [
              1,
              "#f0f921"
             ]
            ],
            "type": "heatmap"
           }
          ],
          "heatmapgl": [
           {
            "colorbar": {
             "outlinewidth": 0,
             "ticks": ""
            },
            "colorscale": [
             [
              0,
              "#0d0887"
             ],
             [
              0.1111111111111111,
              "#46039f"
             ],
             [
              0.2222222222222222,
              "#7201a8"
             ],
             [
              0.3333333333333333,
              "#9c179e"
             ],
             [
              0.4444444444444444,
              "#bd3786"
             ],
             [
              0.5555555555555556,
              "#d8576b"
             ],
             [
              0.6666666666666666,
              "#ed7953"
             ],
             [
              0.7777777777777778,
              "#fb9f3a"
             ],
             [
              0.8888888888888888,
              "#fdca26"
             ],
             [
              1,
              "#f0f921"
             ]
            ],
            "type": "heatmapgl"
           }
          ],
          "histogram": [
           {
            "marker": {
             "pattern": {
              "fillmode": "overlay",
              "size": 10,
              "solidity": 0.2
             }
            },
            "type": "histogram"
           }
          ],
          "histogram2d": [
           {
            "colorbar": {
             "outlinewidth": 0,
             "ticks": ""
            },
            "colorscale": [
             [
              0,
              "#0d0887"
             ],
             [
              0.1111111111111111,
              "#46039f"
             ],
             [
              0.2222222222222222,
              "#7201a8"
             ],
             [
              0.3333333333333333,
              "#9c179e"
             ],
             [
              0.4444444444444444,
              "#bd3786"
             ],
             [
              0.5555555555555556,
              "#d8576b"
             ],
             [
              0.6666666666666666,
              "#ed7953"
             ],
             [
              0.7777777777777778,
              "#fb9f3a"
             ],
             [
              0.8888888888888888,
              "#fdca26"
             ],
             [
              1,
              "#f0f921"
             ]
            ],
            "type": "histogram2d"
           }
          ],
          "histogram2dcontour": [
           {
            "colorbar": {
             "outlinewidth": 0,
             "ticks": ""
            },
            "colorscale": [
             [
              0,
              "#0d0887"
             ],
             [
              0.1111111111111111,
              "#46039f"
             ],
             [
              0.2222222222222222,
              "#7201a8"
             ],
             [
              0.3333333333333333,
              "#9c179e"
             ],
             [
              0.4444444444444444,
              "#bd3786"
             ],
             [
              0.5555555555555556,
              "#d8576b"
             ],
             [
              0.6666666666666666,
              "#ed7953"
             ],
             [
              0.7777777777777778,
              "#fb9f3a"
             ],
             [
              0.8888888888888888,
              "#fdca26"
             ],
             [
              1,
              "#f0f921"
             ]
            ],
            "type": "histogram2dcontour"
           }
          ],
          "mesh3d": [
           {
            "colorbar": {
             "outlinewidth": 0,
             "ticks": ""
            },
            "type": "mesh3d"
           }
          ],
          "parcoords": [
           {
            "line": {
             "colorbar": {
              "outlinewidth": 0,
              "ticks": ""
             }
            },
            "type": "parcoords"
           }
          ],
          "pie": [
           {
            "automargin": true,
            "type": "pie"
           }
          ],
          "scatter": [
           {
            "marker": {
             "colorbar": {
              "outlinewidth": 0,
              "ticks": ""
             }
            },
            "type": "scatter"
           }
          ],
          "scatter3d": [
           {
            "line": {
             "colorbar": {
              "outlinewidth": 0,
              "ticks": ""
             }
            },
            "marker": {
             "colorbar": {
              "outlinewidth": 0,
              "ticks": ""
             }
            },
            "type": "scatter3d"
           }
          ],
          "scattercarpet": [
           {
            "marker": {
             "colorbar": {
              "outlinewidth": 0,
              "ticks": ""
             }
            },
            "type": "scattercarpet"
           }
          ],
          "scattergeo": [
           {
            "marker": {
             "colorbar": {
              "outlinewidth": 0,
              "ticks": ""
             }
            },
            "type": "scattergeo"
           }
          ],
          "scattergl": [
           {
            "marker": {
             "colorbar": {
              "outlinewidth": 0,
              "ticks": ""
             }
            },
            "type": "scattergl"
           }
          ],
          "scattermapbox": [
           {
            "marker": {
             "colorbar": {
              "outlinewidth": 0,
              "ticks": ""
             }
            },
            "type": "scattermapbox"
           }
          ],
          "scatterpolar": [
           {
            "marker": {
             "colorbar": {
              "outlinewidth": 0,
              "ticks": ""
             }
            },
            "type": "scatterpolar"
           }
          ],
          "scatterpolargl": [
           {
            "marker": {
             "colorbar": {
              "outlinewidth": 0,
              "ticks": ""
             }
            },
            "type": "scatterpolargl"
           }
          ],
          "scatterternary": [
           {
            "marker": {
             "colorbar": {
              "outlinewidth": 0,
              "ticks": ""
             }
            },
            "type": "scatterternary"
           }
          ],
          "surface": [
           {
            "colorbar": {
             "outlinewidth": 0,
             "ticks": ""
            },
            "colorscale": [
             [
              0,
              "#0d0887"
             ],
             [
              0.1111111111111111,
              "#46039f"
             ],
             [
              0.2222222222222222,
              "#7201a8"
             ],
             [
              0.3333333333333333,
              "#9c179e"
             ],
             [
              0.4444444444444444,
              "#bd3786"
             ],
             [
              0.5555555555555556,
              "#d8576b"
             ],
             [
              0.6666666666666666,
              "#ed7953"
             ],
             [
              0.7777777777777778,
              "#fb9f3a"
             ],
             [
              0.8888888888888888,
              "#fdca26"
             ],
             [
              1,
              "#f0f921"
             ]
            ],
            "type": "surface"
           }
          ],
          "table": [
           {
            "cells": {
             "fill": {
              "color": "#EBF0F8"
             },
             "line": {
              "color": "white"
             }
            },
            "header": {
             "fill": {
              "color": "#C8D4E3"
             },
             "line": {
              "color": "white"
             }
            },
            "type": "table"
           }
          ]
         },
         "layout": {
          "annotationdefaults": {
           "arrowcolor": "#2a3f5f",
           "arrowhead": 0,
           "arrowwidth": 1
          },
          "autotypenumbers": "strict",
          "coloraxis": {
           "colorbar": {
            "outlinewidth": 0,
            "ticks": ""
           }
          },
          "colorscale": {
           "diverging": [
            [
             0,
             "#8e0152"
            ],
            [
             0.1,
             "#c51b7d"
            ],
            [
             0.2,
             "#de77ae"
            ],
            [
             0.3,
             "#f1b6da"
            ],
            [
             0.4,
             "#fde0ef"
            ],
            [
             0.5,
             "#f7f7f7"
            ],
            [
             0.6,
             "#e6f5d0"
            ],
            [
             0.7,
             "#b8e186"
            ],
            [
             0.8,
             "#7fbc41"
            ],
            [
             0.9,
             "#4d9221"
            ],
            [
             1,
             "#276419"
            ]
           ],
           "sequential": [
            [
             0,
             "#0d0887"
            ],
            [
             0.1111111111111111,
             "#46039f"
            ],
            [
             0.2222222222222222,
             "#7201a8"
            ],
            [
             0.3333333333333333,
             "#9c179e"
            ],
            [
             0.4444444444444444,
             "#bd3786"
            ],
            [
             0.5555555555555556,
             "#d8576b"
            ],
            [
             0.6666666666666666,
             "#ed7953"
            ],
            [
             0.7777777777777778,
             "#fb9f3a"
            ],
            [
             0.8888888888888888,
             "#fdca26"
            ],
            [
             1,
             "#f0f921"
            ]
           ],
           "sequentialminus": [
            [
             0,
             "#0d0887"
            ],
            [
             0.1111111111111111,
             "#46039f"
            ],
            [
             0.2222222222222222,
             "#7201a8"
            ],
            [
             0.3333333333333333,
             "#9c179e"
            ],
            [
             0.4444444444444444,
             "#bd3786"
            ],
            [
             0.5555555555555556,
             "#d8576b"
            ],
            [
             0.6666666666666666,
             "#ed7953"
            ],
            [
             0.7777777777777778,
             "#fb9f3a"
            ],
            [
             0.8888888888888888,
             "#fdca26"
            ],
            [
             1,
             "#f0f921"
            ]
           ]
          },
          "colorway": [
           "#636efa",
           "#EF553B",
           "#00cc96",
           "#ab63fa",
           "#FFA15A",
           "#19d3f3",
           "#FF6692",
           "#B6E880",
           "#FF97FF",
           "#FECB52"
          ],
          "font": {
           "color": "#2a3f5f"
          },
          "geo": {
           "bgcolor": "white",
           "lakecolor": "white",
           "landcolor": "#E5ECF6",
           "showlakes": true,
           "showland": true,
           "subunitcolor": "white"
          },
          "hoverlabel": {
           "align": "left"
          },
          "hovermode": "closest",
          "mapbox": {
           "style": "light"
          },
          "paper_bgcolor": "white",
          "plot_bgcolor": "#E5ECF6",
          "polar": {
           "angularaxis": {
            "gridcolor": "white",
            "linecolor": "white",
            "ticks": ""
           },
           "bgcolor": "#E5ECF6",
           "radialaxis": {
            "gridcolor": "white",
            "linecolor": "white",
            "ticks": ""
           }
          },
          "scene": {
           "xaxis": {
            "backgroundcolor": "#E5ECF6",
            "gridcolor": "white",
            "gridwidth": 2,
            "linecolor": "white",
            "showbackground": true,
            "ticks": "",
            "zerolinecolor": "white"
           },
           "yaxis": {
            "backgroundcolor": "#E5ECF6",
            "gridcolor": "white",
            "gridwidth": 2,
            "linecolor": "white",
            "showbackground": true,
            "ticks": "",
            "zerolinecolor": "white"
           },
           "zaxis": {
            "backgroundcolor": "#E5ECF6",
            "gridcolor": "white",
            "gridwidth": 2,
            "linecolor": "white",
            "showbackground": true,
            "ticks": "",
            "zerolinecolor": "white"
           }
          },
          "shapedefaults": {
           "line": {
            "color": "#2a3f5f"
           }
          },
          "ternary": {
           "aaxis": {
            "gridcolor": "white",
            "linecolor": "white",
            "ticks": ""
           },
           "baxis": {
            "gridcolor": "white",
            "linecolor": "white",
            "ticks": ""
           },
           "bgcolor": "#E5ECF6",
           "caxis": {
            "gridcolor": "white",
            "linecolor": "white",
            "ticks": ""
           }
          },
          "title": {
           "x": 0.05
          },
          "xaxis": {
           "automargin": true,
           "gridcolor": "white",
           "linecolor": "white",
           "ticks": "",
           "title": {
            "standoff": 15
           },
           "zerolinecolor": "white",
           "zerolinewidth": 2
          },
          "yaxis": {
           "automargin": true,
           "gridcolor": "white",
           "linecolor": "white",
           "ticks": "",
           "title": {
            "standoff": 15
           },
           "zerolinecolor": "white",
           "zerolinewidth": 2
          }
         }
        },
        "title": {
         "text": "Height of SS"
        },
        "xaxis": {
         "anchor": "y",
         "domain": [
          0,
          1
         ],
         "title": {
          "text": "displayName"
         }
        },
        "yaxis": {
         "anchor": "x",
         "domain": [
          0,
          1
         ],
         "title": {
          "text": "height"
         }
        }
       }
      }
     },
     "metadata": {},
     "output_type": "display_data"
    },
    {
     "data": {
      "application/vnd.plotly.v1+json": {
       "config": {
        "plotlyServerURL": "https://plot.ly"
       },
       "data": [
        {
         "alignmentgroup": "True",
         "hovertemplate": "displayName=%{x}<br>weight=%{y}<extra></extra>",
         "legendgroup": "",
         "marker": {
          "color": "#636efa",
          "pattern": {
           "shape": ""
          }
         },
         "name": "",
         "offsetgroup": "",
         "orientation": "v",
         "showlegend": false,
         "textposition": "auto",
         "type": "bar",
         "x": [
          "Dean Marlowe",
          "Clayton Fejedelem",
          "Jordan Poyer",
          "J.T. Gray",
          "Sam Franklin",
          "Malcolm Jenkins",
          "Juston Burris",
          "Will Redmond",
          "Sherrick McManis",
          "Eddie Jackson",
          "Anthony Levine",
          "Shawn Williams",
          "Jordan Richards",
          "Vonn Bell",
          "Chuck Clark",
          "Jordan Dangerfield",
          "Jovante Moffatt",
          "Minkah Fitzpatrick",
          "Karl Joseph",
          "Montrel Meander",
          "Will Harris",
          "Harrison Smith",
          "Duron Harmon",
          "Armani Watts",
          "Alohi Gilman",
          "Jaylen Watkins",
          "Cody Davis",
          "Adrian Phillips",
          "J.T. Hassell",
          "Terrence Brooks",
          "Nate Ebner",
          "Donovan Wilson",
          "Jabrill Peppers",
          "Rudy Ford",
          "Blake Countess",
          "Marcus Epps",
          "Andrew Adams",
          "Jordan Whitehead",
          "Jeff Heath",
          "Johnathan Abram",
          "Tavon Wilson",
          "Jarrod Wilson",
          "Deionte Thompson",
          "Budda Baker",
          "Kai Nacua",
          "Marcell Harris",
          "Demetrius Flannigan-Fowles",
          "Chauncey Gardner-Johnson",
          "Rashaan Gaulden",
          "Trey Marshall",
          "Terrell Edmunds",
          "Khari Willis",
          "Jamal Adams",
          "Jalen Mills",
          "Darnell Savage",
          "Rayshawn Jenkins",
          "Jake Gervase",
          "Trayvon Henderson",
          "Justin Reid",
          "T.J. Green",
          "Deshazor Everett",
          "Daniel Thomas",
          "Michael Thomas",
          "Josh Thomas",
          "Taylor Rapp",
          "Johnathan Cyprien",
          "Josh Jones",
          "Dane Cruikshank",
          "Ronnie Harrison",
          "Ashtyn Davis",
          "Terrell Burgess",
          "Elijah Benton",
          "Jaquiski Tartt",
          "Bradley McDougald",
          "Eric Rowe",
          "Damontae Kazee",
          "Delano Hill",
          "Kurt Coleman",
          "Eric Reid",
          "Dee Delaney",
          "Jordan Lucas",
          "Montre Hartage",
          "Patrick Chung",
          "Kenny Vaccaro",
          "Rolan Milligan",
          "Morgan Burnett",
          "Tony Jefferson",
          "Derrick Kindred",
          "Eddie Pleasant",
          "Kentrell Brice",
          "Corey Moore",
          "Godwin Igwebuike",
          "Rafael Bush",
          "Josh Shaw",
          "T.J. McDonald",
          "Tyrann Mathieu",
          "Shamarko Thomas",
          "Landon Collins",
          "Justin Evans",
          "Barry Church",
          "Nat Berhe",
          "Da'Norris Searcy",
          "Chris Conte"
         ],
         "xaxis": "x",
         "y": [
          94.35,
          92.99,
          86.64,
          91.63,
          95.25,
          92.53,
          96.16,
          84.37,
          92.08,
          91.63,
          93.89,
          95.25,
          97.52,
          92.99,
          92.99,
          90.72,
          95.25,
          93.89,
          90.72,
          97.52,
          93.89,
          97.07,
          92.99,
          92.99,
          91.63,
          88,
          92.08,
          95.25,
          90.26,
          92.99,
          97.52,
          92.53,
          96.62,
          92.53,
          83.91,
          86.64,
          91.63,
          89.81,
          96.16,
          92.99,
          94.35,
          95.25,
          88.9,
          88.45,
          92.99,
          94.35,
          94.8,
          94.35,
          90.72,
          93.89,
          98.43,
          97.52,
          96.62,
          86.64,
          90.72,
          99.79,
          96.16,
          92.99,
          92.53,
          97.52,
          92.08,
          94.8,
          88.45,
          92.99,
          94.35,
          95.71,
          99.79,
          94.8,
          97.07,
          90.72,
          89.81,
          92.99,
          97.52,
          97.52,
          92.99,
          86.18,
          97.98,
          94.35,
          97.52,
          87.54,
          86.18,
          86.18,
          97.52,
          97.07,
          90.72,
          95.25,
          96.16,
          95.25,
          95.25,
          90.72,
          90.72,
          96.16,
          92.99,
          90.72,
          97.52,
          86.18,
          92.99,
          98.88,
          90.26,
          98.88,
          88.45,
          92.99,
          92.08
         ],
         "yaxis": "y"
        }
       ],
       "layout": {
        "barmode": "relative",
        "legend": {
         "tracegroupgap": 0
        },
        "template": {
         "data": {
          "bar": [
           {
            "error_x": {
             "color": "#2a3f5f"
            },
            "error_y": {
             "color": "#2a3f5f"
            },
            "marker": {
             "line": {
              "color": "#E5ECF6",
              "width": 0.5
             },
             "pattern": {
              "fillmode": "overlay",
              "size": 10,
              "solidity": 0.2
             }
            },
            "type": "bar"
           }
          ],
          "barpolar": [
           {
            "marker": {
             "line": {
              "color": "#E5ECF6",
              "width": 0.5
             },
             "pattern": {
              "fillmode": "overlay",
              "size": 10,
              "solidity": 0.2
             }
            },
            "type": "barpolar"
           }
          ],
          "carpet": [
           {
            "aaxis": {
             "endlinecolor": "#2a3f5f",
             "gridcolor": "white",
             "linecolor": "white",
             "minorgridcolor": "white",
             "startlinecolor": "#2a3f5f"
            },
            "baxis": {
             "endlinecolor": "#2a3f5f",
             "gridcolor": "white",
             "linecolor": "white",
             "minorgridcolor": "white",
             "startlinecolor": "#2a3f5f"
            },
            "type": "carpet"
           }
          ],
          "choropleth": [
           {
            "colorbar": {
             "outlinewidth": 0,
             "ticks": ""
            },
            "type": "choropleth"
           }
          ],
          "contour": [
           {
            "colorbar": {
             "outlinewidth": 0,
             "ticks": ""
            },
            "colorscale": [
             [
              0,
              "#0d0887"
             ],
             [
              0.1111111111111111,
              "#46039f"
             ],
             [
              0.2222222222222222,
              "#7201a8"
             ],
             [
              0.3333333333333333,
              "#9c179e"
             ],
             [
              0.4444444444444444,
              "#bd3786"
             ],
             [
              0.5555555555555556,
              "#d8576b"
             ],
             [
              0.6666666666666666,
              "#ed7953"
             ],
             [
              0.7777777777777778,
              "#fb9f3a"
             ],
             [
              0.8888888888888888,
              "#fdca26"
             ],
             [
              1,
              "#f0f921"
             ]
            ],
            "type": "contour"
           }
          ],
          "contourcarpet": [
           {
            "colorbar": {
             "outlinewidth": 0,
             "ticks": ""
            },
            "type": "contourcarpet"
           }
          ],
          "heatmap": [
           {
            "colorbar": {
             "outlinewidth": 0,
             "ticks": ""
            },
            "colorscale": [
             [
              0,
              "#0d0887"
             ],
             [
              0.1111111111111111,
              "#46039f"
             ],
             [
              0.2222222222222222,
              "#7201a8"
             ],
             [
              0.3333333333333333,
              "#9c179e"
             ],
             [
              0.4444444444444444,
              "#bd3786"
             ],
             [
              0.5555555555555556,
              "#d8576b"
             ],
             [
              0.6666666666666666,
              "#ed7953"
             ],
             [
              0.7777777777777778,
              "#fb9f3a"
             ],
             [
              0.8888888888888888,
              "#fdca26"
             ],
             [
              1,
              "#f0f921"
             ]
            ],
            "type": "heatmap"
           }
          ],
          "heatmapgl": [
           {
            "colorbar": {
             "outlinewidth": 0,
             "ticks": ""
            },
            "colorscale": [
             [
              0,
              "#0d0887"
             ],
             [
              0.1111111111111111,
              "#46039f"
             ],
             [
              0.2222222222222222,
              "#7201a8"
             ],
             [
              0.3333333333333333,
              "#9c179e"
             ],
             [
              0.4444444444444444,
              "#bd3786"
             ],
             [
              0.5555555555555556,
              "#d8576b"
             ],
             [
              0.6666666666666666,
              "#ed7953"
             ],
             [
              0.7777777777777778,
              "#fb9f3a"
             ],
             [
              0.8888888888888888,
              "#fdca26"
             ],
             [
              1,
              "#f0f921"
             ]
            ],
            "type": "heatmapgl"
           }
          ],
          "histogram": [
           {
            "marker": {
             "pattern": {
              "fillmode": "overlay",
              "size": 10,
              "solidity": 0.2
             }
            },
            "type": "histogram"
           }
          ],
          "histogram2d": [
           {
            "colorbar": {
             "outlinewidth": 0,
             "ticks": ""
            },
            "colorscale": [
             [
              0,
              "#0d0887"
             ],
             [
              0.1111111111111111,
              "#46039f"
             ],
             [
              0.2222222222222222,
              "#7201a8"
             ],
             [
              0.3333333333333333,
              "#9c179e"
             ],
             [
              0.4444444444444444,
              "#bd3786"
             ],
             [
              0.5555555555555556,
              "#d8576b"
             ],
             [
              0.6666666666666666,
              "#ed7953"
             ],
             [
              0.7777777777777778,
              "#fb9f3a"
             ],
             [
              0.8888888888888888,
              "#fdca26"
             ],
             [
              1,
              "#f0f921"
             ]
            ],
            "type": "histogram2d"
           }
          ],
          "histogram2dcontour": [
           {
            "colorbar": {
             "outlinewidth": 0,
             "ticks": ""
            },
            "colorscale": [
             [
              0,
              "#0d0887"
             ],
             [
              0.1111111111111111,
              "#46039f"
             ],
             [
              0.2222222222222222,
              "#7201a8"
             ],
             [
              0.3333333333333333,
              "#9c179e"
             ],
             [
              0.4444444444444444,
              "#bd3786"
             ],
             [
              0.5555555555555556,
              "#d8576b"
             ],
             [
              0.6666666666666666,
              "#ed7953"
             ],
             [
              0.7777777777777778,
              "#fb9f3a"
             ],
             [
              0.8888888888888888,
              "#fdca26"
             ],
             [
              1,
              "#f0f921"
             ]
            ],
            "type": "histogram2dcontour"
           }
          ],
          "mesh3d": [
           {
            "colorbar": {
             "outlinewidth": 0,
             "ticks": ""
            },
            "type": "mesh3d"
           }
          ],
          "parcoords": [
           {
            "line": {
             "colorbar": {
              "outlinewidth": 0,
              "ticks": ""
             }
            },
            "type": "parcoords"
           }
          ],
          "pie": [
           {
            "automargin": true,
            "type": "pie"
           }
          ],
          "scatter": [
           {
            "marker": {
             "colorbar": {
              "outlinewidth": 0,
              "ticks": ""
             }
            },
            "type": "scatter"
           }
          ],
          "scatter3d": [
           {
            "line": {
             "colorbar": {
              "outlinewidth": 0,
              "ticks": ""
             }
            },
            "marker": {
             "colorbar": {
              "outlinewidth": 0,
              "ticks": ""
             }
            },
            "type": "scatter3d"
           }
          ],
          "scattercarpet": [
           {
            "marker": {
             "colorbar": {
              "outlinewidth": 0,
              "ticks": ""
             }
            },
            "type": "scattercarpet"
           }
          ],
          "scattergeo": [
           {
            "marker": {
             "colorbar": {
              "outlinewidth": 0,
              "ticks": ""
             }
            },
            "type": "scattergeo"
           }
          ],
          "scattergl": [
           {
            "marker": {
             "colorbar": {
              "outlinewidth": 0,
              "ticks": ""
             }
            },
            "type": "scattergl"
           }
          ],
          "scattermapbox": [
           {
            "marker": {
             "colorbar": {
              "outlinewidth": 0,
              "ticks": ""
             }
            },
            "type": "scattermapbox"
           }
          ],
          "scatterpolar": [
           {
            "marker": {
             "colorbar": {
              "outlinewidth": 0,
              "ticks": ""
             }
            },
            "type": "scatterpolar"
           }
          ],
          "scatterpolargl": [
           {
            "marker": {
             "colorbar": {
              "outlinewidth": 0,
              "ticks": ""
             }
            },
            "type": "scatterpolargl"
           }
          ],
          "scatterternary": [
           {
            "marker": {
             "colorbar": {
              "outlinewidth": 0,
              "ticks": ""
             }
            },
            "type": "scatterternary"
           }
          ],
          "surface": [
           {
            "colorbar": {
             "outlinewidth": 0,
             "ticks": ""
            },
            "colorscale": [
             [
              0,
              "#0d0887"
             ],
             [
              0.1111111111111111,
              "#46039f"
             ],
             [
              0.2222222222222222,
              "#7201a8"
             ],
             [
              0.3333333333333333,
              "#9c179e"
             ],
             [
              0.4444444444444444,
              "#bd3786"
             ],
             [
              0.5555555555555556,
              "#d8576b"
             ],
             [
              0.6666666666666666,
              "#ed7953"
             ],
             [
              0.7777777777777778,
              "#fb9f3a"
             ],
             [
              0.8888888888888888,
              "#fdca26"
             ],
             [
              1,
              "#f0f921"
             ]
            ],
            "type": "surface"
           }
          ],
          "table": [
           {
            "cells": {
             "fill": {
              "color": "#EBF0F8"
             },
             "line": {
              "color": "white"
             }
            },
            "header": {
             "fill": {
              "color": "#C8D4E3"
             },
             "line": {
              "color": "white"
             }
            },
            "type": "table"
           }
          ]
         },
         "layout": {
          "annotationdefaults": {
           "arrowcolor": "#2a3f5f",
           "arrowhead": 0,
           "arrowwidth": 1
          },
          "autotypenumbers": "strict",
          "coloraxis": {
           "colorbar": {
            "outlinewidth": 0,
            "ticks": ""
           }
          },
          "colorscale": {
           "diverging": [
            [
             0,
             "#8e0152"
            ],
            [
             0.1,
             "#c51b7d"
            ],
            [
             0.2,
             "#de77ae"
            ],
            [
             0.3,
             "#f1b6da"
            ],
            [
             0.4,
             "#fde0ef"
            ],
            [
             0.5,
             "#f7f7f7"
            ],
            [
             0.6,
             "#e6f5d0"
            ],
            [
             0.7,
             "#b8e186"
            ],
            [
             0.8,
             "#7fbc41"
            ],
            [
             0.9,
             "#4d9221"
            ],
            [
             1,
             "#276419"
            ]
           ],
           "sequential": [
            [
             0,
             "#0d0887"
            ],
            [
             0.1111111111111111,
             "#46039f"
            ],
            [
             0.2222222222222222,
             "#7201a8"
            ],
            [
             0.3333333333333333,
             "#9c179e"
            ],
            [
             0.4444444444444444,
             "#bd3786"
            ],
            [
             0.5555555555555556,
             "#d8576b"
            ],
            [
             0.6666666666666666,
             "#ed7953"
            ],
            [
             0.7777777777777778,
             "#fb9f3a"
            ],
            [
             0.8888888888888888,
             "#fdca26"
            ],
            [
             1,
             "#f0f921"
            ]
           ],
           "sequentialminus": [
            [
             0,
             "#0d0887"
            ],
            [
             0.1111111111111111,
             "#46039f"
            ],
            [
             0.2222222222222222,
             "#7201a8"
            ],
            [
             0.3333333333333333,
             "#9c179e"
            ],
            [
             0.4444444444444444,
             "#bd3786"
            ],
            [
             0.5555555555555556,
             "#d8576b"
            ],
            [
             0.6666666666666666,
             "#ed7953"
            ],
            [
             0.7777777777777778,
             "#fb9f3a"
            ],
            [
             0.8888888888888888,
             "#fdca26"
            ],
            [
             1,
             "#f0f921"
            ]
           ]
          },
          "colorway": [
           "#636efa",
           "#EF553B",
           "#00cc96",
           "#ab63fa",
           "#FFA15A",
           "#19d3f3",
           "#FF6692",
           "#B6E880",
           "#FF97FF",
           "#FECB52"
          ],
          "font": {
           "color": "#2a3f5f"
          },
          "geo": {
           "bgcolor": "white",
           "lakecolor": "white",
           "landcolor": "#E5ECF6",
           "showlakes": true,
           "showland": true,
           "subunitcolor": "white"
          },
          "hoverlabel": {
           "align": "left"
          },
          "hovermode": "closest",
          "mapbox": {
           "style": "light"
          },
          "paper_bgcolor": "white",
          "plot_bgcolor": "#E5ECF6",
          "polar": {
           "angularaxis": {
            "gridcolor": "white",
            "linecolor": "white",
            "ticks": ""
           },
           "bgcolor": "#E5ECF6",
           "radialaxis": {
            "gridcolor": "white",
            "linecolor": "white",
            "ticks": ""
           }
          },
          "scene": {
           "xaxis": {
            "backgroundcolor": "#E5ECF6",
            "gridcolor": "white",
            "gridwidth": 2,
            "linecolor": "white",
            "showbackground": true,
            "ticks": "",
            "zerolinecolor": "white"
           },
           "yaxis": {
            "backgroundcolor": "#E5ECF6",
            "gridcolor": "white",
            "gridwidth": 2,
            "linecolor": "white",
            "showbackground": true,
            "ticks": "",
            "zerolinecolor": "white"
           },
           "zaxis": {
            "backgroundcolor": "#E5ECF6",
            "gridcolor": "white",
            "gridwidth": 2,
            "linecolor": "white",
            "showbackground": true,
            "ticks": "",
            "zerolinecolor": "white"
           }
          },
          "shapedefaults": {
           "line": {
            "color": "#2a3f5f"
           }
          },
          "ternary": {
           "aaxis": {
            "gridcolor": "white",
            "linecolor": "white",
            "ticks": ""
           },
           "baxis": {
            "gridcolor": "white",
            "linecolor": "white",
            "ticks": ""
           },
           "bgcolor": "#E5ECF6",
           "caxis": {
            "gridcolor": "white",
            "linecolor": "white",
            "ticks": ""
           }
          },
          "title": {
           "x": 0.05
          },
          "xaxis": {
           "automargin": true,
           "gridcolor": "white",
           "linecolor": "white",
           "ticks": "",
           "title": {
            "standoff": 15
           },
           "zerolinecolor": "white",
           "zerolinewidth": 2
          },
          "yaxis": {
           "automargin": true,
           "gridcolor": "white",
           "linecolor": "white",
           "ticks": "",
           "title": {
            "standoff": 15
           },
           "zerolinecolor": "white",
           "zerolinewidth": 2
          }
         }
        },
        "title": {
         "text": "Weight of SS"
        },
        "xaxis": {
         "anchor": "y",
         "domain": [
          0,
          1
         ],
         "title": {
          "text": "displayName"
         }
        },
        "yaxis": {
         "anchor": "x",
         "domain": [
          0,
          1
         ],
         "title": {
          "text": "weight"
         }
        }
       }
      }
     },
     "metadata": {},
     "output_type": "display_data"
    }
   ],
   "source": [
    "players_df['birthDate'] = pd.to_datetime(players_df['birthDate'], infer_datetime_format = True) \n",
    "players_df['birthDate'] = np.round((pd.Timestamp.now() - players_df['birthDate']).dt.days/365)\n",
    "players_df = players_df.rename(columns={'birthDate': 'age'})\n",
    "\n",
    "position= \"SS\"\n",
    "plot_title_height = \"Height of \"+ position\n",
    "plot_title_weight = \"Weight of \"+ position\n",
    "filtered_df = players_df.loc[players_df['Position']== position]\n",
    "players_heights = filtered_df[\"height\"] # Get the Height data from DataFrame\n",
    "players_heights = players_heights.apply(lambda x: x.split(\"-\")) # Split the heights by hyphen (\"-\")\n",
    "\n",
    "# Convert Heights to Centimeters and add them to DataFrame\n",
    "filtered_df[\"height\"] = players_heights.apply(lambda x: int(x[0]) * 12 + int(x[1]) if len(x) == 2 else int(x[0])) * 2.54\n",
    "\n",
    "# Convert Weights to Kilograms and them to DataFrame\n",
    "filtered_df[\"weight\"] = round(players_df.weight * 0.453592, 2)\n",
    "print(filtered_df)\n",
    "fig = px.bar(filtered_df, x = filtered_df['displayName'], y = filtered_df['height'], title = plot_title_height)\n",
    "fig.show()\n",
    "fig = px.bar(filtered_df, x = filtered_df['displayName'], y = filtered_df['weight'], title = plot_title_weight)\n",
    "fig.show()"
   ]
  },
  {
   "cell_type": "code",
   "execution_count": 17,
   "metadata": {},
   "outputs": [
    {
     "data": {
      "text/html": [
       "<div>\n",
       "<style scoped>\n",
       "    .dataframe tbody tr th:only-of-type {\n",
       "        vertical-align: middle;\n",
       "    }\n",
       "\n",
       "    .dataframe tbody tr th {\n",
       "        vertical-align: top;\n",
       "    }\n",
       "\n",
       "    .dataframe thead th {\n",
       "        text-align: right;\n",
       "    }\n",
       "</style>\n",
       "<table border=\"1\" class=\"dataframe\">\n",
       "  <thead>\n",
       "    <tr style=\"text-align: right;\">\n",
       "      <th></th>\n",
       "      <th>gameId</th>\n",
       "      <th>playId</th>\n",
       "      <th>playDescription</th>\n",
       "      <th>quarter</th>\n",
       "      <th>down</th>\n",
       "      <th>yardsToGo</th>\n",
       "      <th>possessionTeam</th>\n",
       "      <th>specialTeamsPlayType</th>\n",
       "      <th>specialTeamsResult</th>\n",
       "      <th>kickerId</th>\n",
       "      <th>...</th>\n",
       "      <th>penaltyCodes</th>\n",
       "      <th>penaltyJerseyNumbers</th>\n",
       "      <th>penaltyYards</th>\n",
       "      <th>preSnapHomeScore</th>\n",
       "      <th>preSnapVisitorScore</th>\n",
       "      <th>passResult</th>\n",
       "      <th>kickLength</th>\n",
       "      <th>kickReturnYardage</th>\n",
       "      <th>playResult</th>\n",
       "      <th>absoluteYardlineNumber</th>\n",
       "    </tr>\n",
       "  </thead>\n",
       "  <tbody>\n",
       "    <tr>\n",
       "      <th>0</th>\n",
       "      <td>2018090600</td>\n",
       "      <td>37</td>\n",
       "      <td>J.Elliott kicks 65 yards from PHI 35 to end zo...</td>\n",
       "      <td>1</td>\n",
       "      <td>0</td>\n",
       "      <td>0</td>\n",
       "      <td>PHI</td>\n",
       "      <td>Kickoff</td>\n",
       "      <td>Touchback</td>\n",
       "      <td>44966.0</td>\n",
       "      <td>...</td>\n",
       "      <td>0</td>\n",
       "      <td>0</td>\n",
       "      <td>0.0</td>\n",
       "      <td>0</td>\n",
       "      <td>0</td>\n",
       "      <td>0</td>\n",
       "      <td>66.0</td>\n",
       "      <td>0.0</td>\n",
       "      <td>40</td>\n",
       "      <td>45</td>\n",
       "    </tr>\n",
       "    <tr>\n",
       "      <th>1</th>\n",
       "      <td>2018090600</td>\n",
       "      <td>366</td>\n",
       "      <td>(9:20) C.Johnston punts 56 yards to ATL 36, Ce...</td>\n",
       "      <td>1</td>\n",
       "      <td>4</td>\n",
       "      <td>4</td>\n",
       "      <td>PHI</td>\n",
       "      <td>Punt</td>\n",
       "      <td>Return</td>\n",
       "      <td>45603.0</td>\n",
       "      <td>...</td>\n",
       "      <td>UNSd</td>\n",
       "      <td>PHI 18</td>\n",
       "      <td>-15.0</td>\n",
       "      <td>0</td>\n",
       "      <td>0</td>\n",
       "      <td>0</td>\n",
       "      <td>56.0</td>\n",
       "      <td>5.0</td>\n",
       "      <td>36</td>\n",
       "      <td>18</td>\n",
       "    </tr>\n",
       "    <tr>\n",
       "      <th>2</th>\n",
       "      <td>2018090600</td>\n",
       "      <td>658</td>\n",
       "      <td>(5:03) M.Bryant 21 yard field goal is GOOD, Ce...</td>\n",
       "      <td>1</td>\n",
       "      <td>4</td>\n",
       "      <td>3</td>\n",
       "      <td>ATL</td>\n",
       "      <td>Field Goal</td>\n",
       "      <td>Kick Attempt Good</td>\n",
       "      <td>27091.0</td>\n",
       "      <td>...</td>\n",
       "      <td>0</td>\n",
       "      <td>0</td>\n",
       "      <td>0.0</td>\n",
       "      <td>0</td>\n",
       "      <td>0</td>\n",
       "      <td>0</td>\n",
       "      <td>21.0</td>\n",
       "      <td>0.0</td>\n",
       "      <td>0</td>\n",
       "      <td>13</td>\n",
       "    </tr>\n",
       "    <tr>\n",
       "      <th>3</th>\n",
       "      <td>2018090600</td>\n",
       "      <td>677</td>\n",
       "      <td>M.Bosher kicks 64 yards from ATL 35 to PHI 1. ...</td>\n",
       "      <td>1</td>\n",
       "      <td>0</td>\n",
       "      <td>0</td>\n",
       "      <td>ATL</td>\n",
       "      <td>Kickoff</td>\n",
       "      <td>Return</td>\n",
       "      <td>37267.0</td>\n",
       "      <td>...</td>\n",
       "      <td>0</td>\n",
       "      <td>0</td>\n",
       "      <td>0.0</td>\n",
       "      <td>0</td>\n",
       "      <td>3</td>\n",
       "      <td>0</td>\n",
       "      <td>64.0</td>\n",
       "      <td>30.0</td>\n",
       "      <td>34</td>\n",
       "      <td>75</td>\n",
       "    </tr>\n",
       "    <tr>\n",
       "      <th>4</th>\n",
       "      <td>2018090600</td>\n",
       "      <td>872</td>\n",
       "      <td>(:33) C.Johnston punts 65 yards to end zone, C...</td>\n",
       "      <td>1</td>\n",
       "      <td>4</td>\n",
       "      <td>18</td>\n",
       "      <td>PHI</td>\n",
       "      <td>Punt</td>\n",
       "      <td>Touchback</td>\n",
       "      <td>45603.0</td>\n",
       "      <td>...</td>\n",
       "      <td>0</td>\n",
       "      <td>0</td>\n",
       "      <td>0.0</td>\n",
       "      <td>0</td>\n",
       "      <td>3</td>\n",
       "      <td>0</td>\n",
       "      <td>65.0</td>\n",
       "      <td>0.0</td>\n",
       "      <td>45</td>\n",
       "      <td>45</td>\n",
       "    </tr>\n",
       "    <tr>\n",
       "      <th>...</th>\n",
       "      <td>...</td>\n",
       "      <td>...</td>\n",
       "      <td>...</td>\n",
       "      <td>...</td>\n",
       "      <td>...</td>\n",
       "      <td>...</td>\n",
       "      <td>...</td>\n",
       "      <td>...</td>\n",
       "      <td>...</td>\n",
       "      <td>...</td>\n",
       "      <td>...</td>\n",
       "      <td>...</td>\n",
       "      <td>...</td>\n",
       "      <td>...</td>\n",
       "      <td>...</td>\n",
       "      <td>...</td>\n",
       "      <td>...</td>\n",
       "      <td>...</td>\n",
       "      <td>...</td>\n",
       "      <td>...</td>\n",
       "      <td>...</td>\n",
       "    </tr>\n",
       "    <tr>\n",
       "      <th>19974</th>\n",
       "      <td>2021010315</td>\n",
       "      <td>3683</td>\n",
       "      <td>J.Myers kicks 65 yards from SEA 35 to end zone...</td>\n",
       "      <td>4</td>\n",
       "      <td>0</td>\n",
       "      <td>0</td>\n",
       "      <td>SEA</td>\n",
       "      <td>Kickoff</td>\n",
       "      <td>Touchback</td>\n",
       "      <td>41175.0</td>\n",
       "      <td>...</td>\n",
       "      <td>0</td>\n",
       "      <td>0</td>\n",
       "      <td>0.0</td>\n",
       "      <td>16</td>\n",
       "      <td>19</td>\n",
       "      <td>0</td>\n",
       "      <td>75.0</td>\n",
       "      <td>0.0</td>\n",
       "      <td>40</td>\n",
       "      <td>75</td>\n",
       "    </tr>\n",
       "    <tr>\n",
       "      <th>19975</th>\n",
       "      <td>2021010315</td>\n",
       "      <td>3870</td>\n",
       "      <td>J.Myers extra point is GOOD, Center-T.Ott, Hol...</td>\n",
       "      <td>4</td>\n",
       "      <td>0</td>\n",
       "      <td>0</td>\n",
       "      <td>SEA</td>\n",
       "      <td>Extra Point</td>\n",
       "      <td>Kick Attempt Good</td>\n",
       "      <td>41175.0</td>\n",
       "      <td>...</td>\n",
       "      <td>0</td>\n",
       "      <td>0</td>\n",
       "      <td>0.0</td>\n",
       "      <td>16</td>\n",
       "      <td>25</td>\n",
       "      <td>0</td>\n",
       "      <td>0.0</td>\n",
       "      <td>0.0</td>\n",
       "      <td>0</td>\n",
       "      <td>25</td>\n",
       "    </tr>\n",
       "    <tr>\n",
       "      <th>19976</th>\n",
       "      <td>2021010315</td>\n",
       "      <td>3886</td>\n",
       "      <td>J.Myers kicks 65 yards from SEA 35 to end zone...</td>\n",
       "      <td>4</td>\n",
       "      <td>0</td>\n",
       "      <td>0</td>\n",
       "      <td>SEA</td>\n",
       "      <td>Kickoff</td>\n",
       "      <td>Touchback</td>\n",
       "      <td>41175.0</td>\n",
       "      <td>...</td>\n",
       "      <td>0</td>\n",
       "      <td>0</td>\n",
       "      <td>0.0</td>\n",
       "      <td>16</td>\n",
       "      <td>26</td>\n",
       "      <td>0</td>\n",
       "      <td>75.0</td>\n",
       "      <td>0.0</td>\n",
       "      <td>40</td>\n",
       "      <td>75</td>\n",
       "    </tr>\n",
       "    <tr>\n",
       "      <th>19977</th>\n",
       "      <td>2021010315</td>\n",
       "      <td>4166</td>\n",
       "      <td>T.Vizcaino extra point is GOOD, Center-C.Holba...</td>\n",
       "      <td>4</td>\n",
       "      <td>0</td>\n",
       "      <td>0</td>\n",
       "      <td>SF</td>\n",
       "      <td>Extra Point</td>\n",
       "      <td>Kick Attempt Good</td>\n",
       "      <td>47590.0</td>\n",
       "      <td>...</td>\n",
       "      <td>0</td>\n",
       "      <td>0</td>\n",
       "      <td>0.0</td>\n",
       "      <td>22</td>\n",
       "      <td>26</td>\n",
       "      <td>0</td>\n",
       "      <td>0.0</td>\n",
       "      <td>0.0</td>\n",
       "      <td>0</td>\n",
       "      <td>95</td>\n",
       "    </tr>\n",
       "    <tr>\n",
       "      <th>19978</th>\n",
       "      <td>2021010315</td>\n",
       "      <td>4182</td>\n",
       "      <td>M.Wishnowsky kicks onside 9 yards from SF 35 t...</td>\n",
       "      <td>4</td>\n",
       "      <td>0</td>\n",
       "      <td>0</td>\n",
       "      <td>SF</td>\n",
       "      <td>Kickoff</td>\n",
       "      <td>Return</td>\n",
       "      <td>47893.0</td>\n",
       "      <td>...</td>\n",
       "      <td>0</td>\n",
       "      <td>0</td>\n",
       "      <td>0.0</td>\n",
       "      <td>23</td>\n",
       "      <td>26</td>\n",
       "      <td>0</td>\n",
       "      <td>9.0</td>\n",
       "      <td>0.0</td>\n",
       "      <td>9</td>\n",
       "      <td>45</td>\n",
       "    </tr>\n",
       "  </tbody>\n",
       "</table>\n",
       "<p>19979 rows × 25 columns</p>\n",
       "</div>"
      ],
      "text/plain": [
       "           gameId  playId                                    playDescription  \\\n",
       "0      2018090600      37  J.Elliott kicks 65 yards from PHI 35 to end zo...   \n",
       "1      2018090600     366  (9:20) C.Johnston punts 56 yards to ATL 36, Ce...   \n",
       "2      2018090600     658  (5:03) M.Bryant 21 yard field goal is GOOD, Ce...   \n",
       "3      2018090600     677  M.Bosher kicks 64 yards from ATL 35 to PHI 1. ...   \n",
       "4      2018090600     872  (:33) C.Johnston punts 65 yards to end zone, C...   \n",
       "...           ...     ...                                                ...   \n",
       "19974  2021010315    3683  J.Myers kicks 65 yards from SEA 35 to end zone...   \n",
       "19975  2021010315    3870  J.Myers extra point is GOOD, Center-T.Ott, Hol...   \n",
       "19976  2021010315    3886  J.Myers kicks 65 yards from SEA 35 to end zone...   \n",
       "19977  2021010315    4166  T.Vizcaino extra point is GOOD, Center-C.Holba...   \n",
       "19978  2021010315    4182  M.Wishnowsky kicks onside 9 yards from SF 35 t...   \n",
       "\n",
       "       quarter  down  yardsToGo possessionTeam specialTeamsPlayType  \\\n",
       "0            1     0          0            PHI              Kickoff   \n",
       "1            1     4          4            PHI                 Punt   \n",
       "2            1     4          3            ATL           Field Goal   \n",
       "3            1     0          0            ATL              Kickoff   \n",
       "4            1     4         18            PHI                 Punt   \n",
       "...        ...   ...        ...            ...                  ...   \n",
       "19974        4     0          0            SEA              Kickoff   \n",
       "19975        4     0          0            SEA          Extra Point   \n",
       "19976        4     0          0            SEA              Kickoff   \n",
       "19977        4     0          0             SF          Extra Point   \n",
       "19978        4     0          0             SF              Kickoff   \n",
       "\n",
       "      specialTeamsResult  kickerId  ... penaltyCodes  penaltyJerseyNumbers  \\\n",
       "0              Touchback   44966.0  ...            0                     0   \n",
       "1                 Return   45603.0  ...         UNSd                PHI 18   \n",
       "2      Kick Attempt Good   27091.0  ...            0                     0   \n",
       "3                 Return   37267.0  ...            0                     0   \n",
       "4              Touchback   45603.0  ...            0                     0   \n",
       "...                  ...       ...  ...          ...                   ...   \n",
       "19974          Touchback   41175.0  ...            0                     0   \n",
       "19975  Kick Attempt Good   41175.0  ...            0                     0   \n",
       "19976          Touchback   41175.0  ...            0                     0   \n",
       "19977  Kick Attempt Good   47590.0  ...            0                     0   \n",
       "19978             Return   47893.0  ...            0                     0   \n",
       "\n",
       "      penaltyYards  preSnapHomeScore preSnapVisitorScore passResult  \\\n",
       "0              0.0                 0                   0          0   \n",
       "1            -15.0                 0                   0          0   \n",
       "2              0.0                 0                   0          0   \n",
       "3              0.0                 0                   3          0   \n",
       "4              0.0                 0                   3          0   \n",
       "...            ...               ...                 ...        ...   \n",
       "19974          0.0                16                  19          0   \n",
       "19975          0.0                16                  25          0   \n",
       "19976          0.0                16                  26          0   \n",
       "19977          0.0                22                  26          0   \n",
       "19978          0.0                23                  26          0   \n",
       "\n",
       "      kickLength  kickReturnYardage  playResult  absoluteYardlineNumber  \n",
       "0           66.0                0.0          40                      45  \n",
       "1           56.0                5.0          36                      18  \n",
       "2           21.0                0.0           0                      13  \n",
       "3           64.0               30.0          34                      75  \n",
       "4           65.0                0.0          45                      45  \n",
       "...          ...                ...         ...                     ...  \n",
       "19974       75.0                0.0          40                      75  \n",
       "19975        0.0                0.0           0                      25  \n",
       "19976       75.0                0.0          40                      75  \n",
       "19977        0.0                0.0           0                      95  \n",
       "19978        9.0                0.0           9                      45  \n",
       "\n",
       "[19979 rows x 25 columns]"
      ]
     },
     "execution_count": 17,
     "metadata": {},
     "output_type": "execute_result"
    }
   ],
   "source": [
    "from sklearn.linear_model import LinearRegression\n",
    "from sklearn.model_selection import train_test_split\n",
    "plays ='data/plays.csv'\n",
    "plays_df = pd.read_csv(plays)\n",
    "plays_df.fillna(0)"
   ]
  },
  {
   "cell_type": "code",
   "execution_count": null,
   "metadata": {},
   "outputs": [],
   "source": [
    "x = np.array(plays_df[['playId','quarter', 'down', 'yardsToGo', 'kickerId', 'penaltyYards', 'preSnapHomeScore', 'kickLength', 'absoluteYardlineNumber']].values.tolist())\n",
    "x = np.nan_to_num(x)\n",
    "y = np.array(plays_df['playResult'].values.tolist())\n",
    "x_train, x_test, y_train, y_test = train_test_split(x, y,test_size=0.66)"
   ]
  },
  {
   "cell_type": "code",
   "execution_count": 20,
   "metadata": {},
   "outputs": [
    {
     "name": "stdout",
     "output_type": "stream",
     "text": [
      "intercept:  -5.01469688593933 \n",
      "\n",
      "slope: \n",
      " [-2.43807983e-03  1.82287538e+00  6.76387035e-01  1.16248815e-01\n",
      "  9.32323477e-05  1.31911354e+00  6.02097301e-02  5.91721982e-01\n",
      " -2.49419762e-03] \n",
      "\n",
      "[39. 39. 41. ... 26. 25.  3.]\n"
     ]
    }
   ],
   "source": [
    "model = LinearRegression().fit(x,y)\n",
    "predicted_y = model.predict(x_test)\n",
    "print('intercept: ',model.intercept_, \"\\n\")\n",
    "print('slope: \\n',model.coef_, \"\\n\")\n",
    "print(np.round(predicted_y))"
   ]
  },
  {
   "cell_type": "code",
   "execution_count": 29,
   "metadata": {},
   "outputs": [
    {
     "data": {
      "text/html": [
       "<div>\n",
       "<style scoped>\n",
       "    .dataframe tbody tr th:only-of-type {\n",
       "        vertical-align: middle;\n",
       "    }\n",
       "\n",
       "    .dataframe tbody tr th {\n",
       "        vertical-align: top;\n",
       "    }\n",
       "\n",
       "    .dataframe thead th {\n",
       "        text-align: right;\n",
       "    }\n",
       "</style>\n",
       "<table border=\"1\" class=\"dataframe\">\n",
       "  <thead>\n",
       "    <tr style=\"text-align: right;\">\n",
       "      <th></th>\n",
       "      <th>time</th>\n",
       "      <th>x</th>\n",
       "      <th>y</th>\n",
       "      <th>s</th>\n",
       "      <th>a</th>\n",
       "      <th>dis</th>\n",
       "      <th>o</th>\n",
       "      <th>dir</th>\n",
       "      <th>event</th>\n",
       "      <th>nflId</th>\n",
       "      <th>displayName</th>\n",
       "      <th>jerseyNumber</th>\n",
       "      <th>position</th>\n",
       "      <th>team</th>\n",
       "      <th>frameId</th>\n",
       "      <th>gameId</th>\n",
       "      <th>playId</th>\n",
       "      <th>playDirection</th>\n",
       "    </tr>\n",
       "  </thead>\n",
       "  <tbody>\n",
       "    <tr>\n",
       "      <th>0</th>\n",
       "      <td>2021-01-03T18:03:02.200</td>\n",
       "      <td>61.21</td>\n",
       "      <td>46.77</td>\n",
       "      <td>0.08</td>\n",
       "      <td>0.13</td>\n",
       "      <td>0.01</td>\n",
       "      <td>186.21</td>\n",
       "      <td>144.73</td>\n",
       "      <td>None</td>\n",
       "      <td>42901.0</td>\n",
       "      <td>Dean Marlowe</td>\n",
       "      <td>31.0</td>\n",
       "      <td>SS</td>\n",
       "      <td>home</td>\n",
       "      <td>1</td>\n",
       "      <td>2021010300</td>\n",
       "      <td>40</td>\n",
       "      <td>left</td>\n",
       "    </tr>\n",
       "    <tr>\n",
       "      <th>1</th>\n",
       "      <td>2021-01-03T18:03:02.300</td>\n",
       "      <td>61.22</td>\n",
       "      <td>46.77</td>\n",
       "      <td>0.11</td>\n",
       "      <td>0.19</td>\n",
       "      <td>0.01</td>\n",
       "      <td>184.87</td>\n",
       "      <td>126.09</td>\n",
       "      <td>None</td>\n",
       "      <td>42901.0</td>\n",
       "      <td>Dean Marlowe</td>\n",
       "      <td>31.0</td>\n",
       "      <td>SS</td>\n",
       "      <td>home</td>\n",
       "      <td>2</td>\n",
       "      <td>2021010300</td>\n",
       "      <td>40</td>\n",
       "      <td>left</td>\n",
       "    </tr>\n",
       "    <tr>\n",
       "      <th>2</th>\n",
       "      <td>2021-01-03T18:03:02.400</td>\n",
       "      <td>61.23</td>\n",
       "      <td>46.76</td>\n",
       "      <td>0.10</td>\n",
       "      <td>0.18</td>\n",
       "      <td>0.01</td>\n",
       "      <td>183.38</td>\n",
       "      <td>108.95</td>\n",
       "      <td>None</td>\n",
       "      <td>42901.0</td>\n",
       "      <td>Dean Marlowe</td>\n",
       "      <td>31.0</td>\n",
       "      <td>SS</td>\n",
       "      <td>home</td>\n",
       "      <td>3</td>\n",
       "      <td>2021010300</td>\n",
       "      <td>40</td>\n",
       "      <td>left</td>\n",
       "    </tr>\n",
       "    <tr>\n",
       "      <th>3</th>\n",
       "      <td>2021-01-03T18:03:02.500</td>\n",
       "      <td>61.24</td>\n",
       "      <td>46.76</td>\n",
       "      <td>0.11</td>\n",
       "      <td>0.22</td>\n",
       "      <td>0.01</td>\n",
       "      <td>180.24</td>\n",
       "      <td>91.57</td>\n",
       "      <td>None</td>\n",
       "      <td>42901.0</td>\n",
       "      <td>Dean Marlowe</td>\n",
       "      <td>31.0</td>\n",
       "      <td>SS</td>\n",
       "      <td>home</td>\n",
       "      <td>4</td>\n",
       "      <td>2021010300</td>\n",
       "      <td>40</td>\n",
       "      <td>left</td>\n",
       "    </tr>\n",
       "    <tr>\n",
       "      <th>4</th>\n",
       "      <td>2021-01-03T18:03:02.600</td>\n",
       "      <td>61.25</td>\n",
       "      <td>46.76</td>\n",
       "      <td>0.05</td>\n",
       "      <td>0.20</td>\n",
       "      <td>0.01</td>\n",
       "      <td>172.44</td>\n",
       "      <td>119.91</td>\n",
       "      <td>None</td>\n",
       "      <td>42901.0</td>\n",
       "      <td>Dean Marlowe</td>\n",
       "      <td>31.0</td>\n",
       "      <td>SS</td>\n",
       "      <td>home</td>\n",
       "      <td>5</td>\n",
       "      <td>2021010300</td>\n",
       "      <td>40</td>\n",
       "      <td>left</td>\n",
       "    </tr>\n",
       "    <tr>\n",
       "      <th>...</th>\n",
       "      <td>...</td>\n",
       "      <td>...</td>\n",
       "      <td>...</td>\n",
       "      <td>...</td>\n",
       "      <td>...</td>\n",
       "      <td>...</td>\n",
       "      <td>...</td>\n",
       "      <td>...</td>\n",
       "      <td>...</td>\n",
       "      <td>...</td>\n",
       "      <td>...</td>\n",
       "      <td>...</td>\n",
       "      <td>...</td>\n",
       "      <td>...</td>\n",
       "      <td>...</td>\n",
       "      <td>...</td>\n",
       "      <td>...</td>\n",
       "      <td>...</td>\n",
       "    </tr>\n",
       "    <tr>\n",
       "      <th>11821696</th>\n",
       "      <td>2020-09-15T05:22:39.200</td>\n",
       "      <td>117.23</td>\n",
       "      <td>32.02</td>\n",
       "      <td>1.13</td>\n",
       "      <td>0.85</td>\n",
       "      <td>0.12</td>\n",
       "      <td>0.00</td>\n",
       "      <td>0.00</td>\n",
       "      <td>None</td>\n",
       "      <td>0.0</td>\n",
       "      <td>football</td>\n",
       "      <td>0.0</td>\n",
       "      <td>0</td>\n",
       "      <td>football</td>\n",
       "      <td>81</td>\n",
       "      <td>2020091401</td>\n",
       "      <td>4280</td>\n",
       "      <td>right</td>\n",
       "    </tr>\n",
       "    <tr>\n",
       "      <th>11821697</th>\n",
       "      <td>2020-09-15T05:22:39.300</td>\n",
       "      <td>117.31</td>\n",
       "      <td>32.10</td>\n",
       "      <td>1.17</td>\n",
       "      <td>0.86</td>\n",
       "      <td>0.12</td>\n",
       "      <td>0.00</td>\n",
       "      <td>0.00</td>\n",
       "      <td>None</td>\n",
       "      <td>0.0</td>\n",
       "      <td>football</td>\n",
       "      <td>0.0</td>\n",
       "      <td>0</td>\n",
       "      <td>football</td>\n",
       "      <td>82</td>\n",
       "      <td>2020091401</td>\n",
       "      <td>4280</td>\n",
       "      <td>right</td>\n",
       "    </tr>\n",
       "    <tr>\n",
       "      <th>11821698</th>\n",
       "      <td>2020-09-15T05:22:39.400</td>\n",
       "      <td>117.40</td>\n",
       "      <td>32.18</td>\n",
       "      <td>1.14</td>\n",
       "      <td>0.62</td>\n",
       "      <td>0.11</td>\n",
       "      <td>0.00</td>\n",
       "      <td>0.00</td>\n",
       "      <td>touchback</td>\n",
       "      <td>0.0</td>\n",
       "      <td>football</td>\n",
       "      <td>0.0</td>\n",
       "      <td>0</td>\n",
       "      <td>football</td>\n",
       "      <td>83</td>\n",
       "      <td>2020091401</td>\n",
       "      <td>4280</td>\n",
       "      <td>right</td>\n",
       "    </tr>\n",
       "    <tr>\n",
       "      <th>11821699</th>\n",
       "      <td>2020-09-15T05:22:39.500</td>\n",
       "      <td>117.48</td>\n",
       "      <td>32.25</td>\n",
       "      <td>1.05</td>\n",
       "      <td>0.43</td>\n",
       "      <td>0.11</td>\n",
       "      <td>0.00</td>\n",
       "      <td>0.00</td>\n",
       "      <td>None</td>\n",
       "      <td>0.0</td>\n",
       "      <td>football</td>\n",
       "      <td>0.0</td>\n",
       "      <td>0</td>\n",
       "      <td>football</td>\n",
       "      <td>84</td>\n",
       "      <td>2020091401</td>\n",
       "      <td>4280</td>\n",
       "      <td>right</td>\n",
       "    </tr>\n",
       "    <tr>\n",
       "      <th>11821700</th>\n",
       "      <td>2020-09-15T05:22:39.600</td>\n",
       "      <td>117.55</td>\n",
       "      <td>32.32</td>\n",
       "      <td>1.01</td>\n",
       "      <td>0.44</td>\n",
       "      <td>0.10</td>\n",
       "      <td>0.00</td>\n",
       "      <td>0.00</td>\n",
       "      <td>None</td>\n",
       "      <td>0.0</td>\n",
       "      <td>football</td>\n",
       "      <td>0.0</td>\n",
       "      <td>0</td>\n",
       "      <td>football</td>\n",
       "      <td>85</td>\n",
       "      <td>2020091401</td>\n",
       "      <td>4280</td>\n",
       "      <td>right</td>\n",
       "    </tr>\n",
       "  </tbody>\n",
       "</table>\n",
       "<p>11821701 rows × 18 columns</p>\n",
       "</div>"
      ],
      "text/plain": [
       "                             time       x      y     s     a   dis       o  \\\n",
       "0         2021-01-03T18:03:02.200   61.21  46.77  0.08  0.13  0.01  186.21   \n",
       "1         2021-01-03T18:03:02.300   61.22  46.77  0.11  0.19  0.01  184.87   \n",
       "2         2021-01-03T18:03:02.400   61.23  46.76  0.10  0.18  0.01  183.38   \n",
       "3         2021-01-03T18:03:02.500   61.24  46.76  0.11  0.22  0.01  180.24   \n",
       "4         2021-01-03T18:03:02.600   61.25  46.76  0.05  0.20  0.01  172.44   \n",
       "...                           ...     ...    ...   ...   ...   ...     ...   \n",
       "11821696  2020-09-15T05:22:39.200  117.23  32.02  1.13  0.85  0.12    0.00   \n",
       "11821697  2020-09-15T05:22:39.300  117.31  32.10  1.17  0.86  0.12    0.00   \n",
       "11821698  2020-09-15T05:22:39.400  117.40  32.18  1.14  0.62  0.11    0.00   \n",
       "11821699  2020-09-15T05:22:39.500  117.48  32.25  1.05  0.43  0.11    0.00   \n",
       "11821700  2020-09-15T05:22:39.600  117.55  32.32  1.01  0.44  0.10    0.00   \n",
       "\n",
       "             dir      event    nflId   displayName  jerseyNumber position  \\\n",
       "0         144.73       None  42901.0  Dean Marlowe          31.0       SS   \n",
       "1         126.09       None  42901.0  Dean Marlowe          31.0       SS   \n",
       "2         108.95       None  42901.0  Dean Marlowe          31.0       SS   \n",
       "3          91.57       None  42901.0  Dean Marlowe          31.0       SS   \n",
       "4         119.91       None  42901.0  Dean Marlowe          31.0       SS   \n",
       "...          ...        ...      ...           ...           ...      ...   \n",
       "11821696    0.00       None      0.0      football           0.0        0   \n",
       "11821697    0.00       None      0.0      football           0.0        0   \n",
       "11821698    0.00  touchback      0.0      football           0.0        0   \n",
       "11821699    0.00       None      0.0      football           0.0        0   \n",
       "11821700    0.00       None      0.0      football           0.0        0   \n",
       "\n",
       "              team  frameId      gameId  playId playDirection  \n",
       "0             home        1  2021010300      40          left  \n",
       "1             home        2  2021010300      40          left  \n",
       "2             home        3  2021010300      40          left  \n",
       "3             home        4  2021010300      40          left  \n",
       "4             home        5  2021010300      40          left  \n",
       "...            ...      ...         ...     ...           ...  \n",
       "11821696  football       81  2020091401    4280         right  \n",
       "11821697  football       82  2020091401    4280         right  \n",
       "11821698  football       83  2020091401    4280         right  \n",
       "11821699  football       84  2020091401    4280         right  \n",
       "11821700  football       85  2020091401    4280         right  \n",
       "\n",
       "[11821701 rows x 18 columns]"
      ]
     },
     "execution_count": 29,
     "metadata": {},
     "output_type": "execute_result"
    }
   ],
   "source": [
    "tracking_2020= 'data/tracking2020.csv'\n",
    "tracking_df = pd.read_csv(tracking_2020)\n",
    "tracking_df.fillna(0)"
   ]
  },
  {
   "cell_type": "code",
   "execution_count": 30,
   "metadata": {},
   "outputs": [
    {
     "name": "stdout",
     "output_type": "stream",
     "text": [
      "nflId    playId\n",
      "34465.0  174        96\n",
      "         222        48\n",
      "         379        53\n",
      "         387        42\n",
      "         401        61\n",
      "                  ... \n",
      "53081.0  2624       57\n",
      "         2894      103\n",
      "         3093      101\n",
      "         3345       82\n",
      "         4899       92\n",
      "Name: nflId, Length: 8624, dtype: int64\n",
      "         nUniquePlays\n",
      "nflId                \n",
      "34465.0            66\n",
      "35583.0           183\n",
      "36060.0           252\n",
      "38559.0            70\n",
      "38578.0           179\n",
      "...               ...\n",
      "52594.0           166\n",
      "52939.0           146\n",
      "53013.0             7\n",
      "53022.0            89\n",
      "53081.0            14\n",
      "\n",
      "[77 rows x 1 columns]\n"
     ]
    },
    {
     "data": {
      "application/vnd.plotly.v1+json": {
       "config": {
        "plotlyServerURL": "https://plot.ly"
       },
       "data": [
        {
         "alignmentgroup": "True",
         "hovertemplate": "NFL ID=%{x}<br>Number of unique plays=%{y}<extra></extra>",
         "legendgroup": "",
         "marker": {
          "color": "#636efa",
          "pattern": {
           "shape": ""
          }
         },
         "name": "",
         "offsetgroup": "",
         "orientation": "v",
         "showlegend": false,
         "textposition": "auto",
         "type": "bar",
         "x": [
          34465,
          35583,
          36060,
          38559,
          38578,
          38737,
          38852,
          39981,
          40032,
          40039,
          40166,
          40217,
          40476,
          40621,
          40656,
          41308,
          41330,
          42116,
          42389,
          42390,
          42407,
          42875,
          42901,
          43303,
          43346,
          43350,
          43357,
          43407,
          43485,
          43522,
          43534,
          43645,
          43757,
          44818,
          44837,
          44848,
          44873,
          44907,
          44925,
          44926,
          44962,
          44999,
          45021,
          45523,
          46080,
          46097,
          46137,
          46154,
          46162,
          46186,
          46193,
          46221,
          46253,
          46369,
          46378,
          46508,
          46717,
          47804,
          47810,
          47844,
          47864,
          47888,
          47892,
          47922,
          47974,
          47996,
          48117,
          48141,
          48772,
          52476,
          52512,
          52565,
          52594,
          52939,
          53013,
          53022,
          53081
         ],
         "xaxis": "x",
         "y": [
          66,
          183,
          252,
          70,
          179,
          283,
          162,
          58,
          260,
          106,
          144,
          223,
          251,
          13,
          229,
          129,
          6,
          131,
          47,
          13,
          298,
          152,
          196,
          95,
          9,
          83,
          207,
          67,
          20,
          73,
          282,
          31,
          263,
          19,
          78,
          19,
          22,
          35,
          11,
          30,
          16,
          57,
          121,
          59,
          54,
          47,
          60,
          10,
          56,
          80,
          302,
          25,
          229,
          254,
          293,
          42,
          29,
          45,
          96,
          46,
          232,
          136,
          52,
          138,
          208,
          151,
          162,
          32,
          16,
          59,
          122,
          178,
          166,
          146,
          7,
          89,
          14
         ],
         "yaxis": "y"
        }
       ],
       "layout": {
        "barmode": "relative",
        "legend": {
         "tracegroupgap": 0
        },
        "template": {
         "data": {
          "bar": [
           {
            "error_x": {
             "color": "#2a3f5f"
            },
            "error_y": {
             "color": "#2a3f5f"
            },
            "marker": {
             "line": {
              "color": "#E5ECF6",
              "width": 0.5
             },
             "pattern": {
              "fillmode": "overlay",
              "size": 10,
              "solidity": 0.2
             }
            },
            "type": "bar"
           }
          ],
          "barpolar": [
           {
            "marker": {
             "line": {
              "color": "#E5ECF6",
              "width": 0.5
             },
             "pattern": {
              "fillmode": "overlay",
              "size": 10,
              "solidity": 0.2
             }
            },
            "type": "barpolar"
           }
          ],
          "carpet": [
           {
            "aaxis": {
             "endlinecolor": "#2a3f5f",
             "gridcolor": "white",
             "linecolor": "white",
             "minorgridcolor": "white",
             "startlinecolor": "#2a3f5f"
            },
            "baxis": {
             "endlinecolor": "#2a3f5f",
             "gridcolor": "white",
             "linecolor": "white",
             "minorgridcolor": "white",
             "startlinecolor": "#2a3f5f"
            },
            "type": "carpet"
           }
          ],
          "choropleth": [
           {
            "colorbar": {
             "outlinewidth": 0,
             "ticks": ""
            },
            "type": "choropleth"
           }
          ],
          "contour": [
           {
            "colorbar": {
             "outlinewidth": 0,
             "ticks": ""
            },
            "colorscale": [
             [
              0,
              "#0d0887"
             ],
             [
              0.1111111111111111,
              "#46039f"
             ],
             [
              0.2222222222222222,
              "#7201a8"
             ],
             [
              0.3333333333333333,
              "#9c179e"
             ],
             [
              0.4444444444444444,
              "#bd3786"
             ],
             [
              0.5555555555555556,
              "#d8576b"
             ],
             [
              0.6666666666666666,
              "#ed7953"
             ],
             [
              0.7777777777777778,
              "#fb9f3a"
             ],
             [
              0.8888888888888888,
              "#fdca26"
             ],
             [
              1,
              "#f0f921"
             ]
            ],
            "type": "contour"
           }
          ],
          "contourcarpet": [
           {
            "colorbar": {
             "outlinewidth": 0,
             "ticks": ""
            },
            "type": "contourcarpet"
           }
          ],
          "heatmap": [
           {
            "colorbar": {
             "outlinewidth": 0,
             "ticks": ""
            },
            "colorscale": [
             [
              0,
              "#0d0887"
             ],
             [
              0.1111111111111111,
              "#46039f"
             ],
             [
              0.2222222222222222,
              "#7201a8"
             ],
             [
              0.3333333333333333,
              "#9c179e"
             ],
             [
              0.4444444444444444,
              "#bd3786"
             ],
             [
              0.5555555555555556,
              "#d8576b"
             ],
             [
              0.6666666666666666,
              "#ed7953"
             ],
             [
              0.7777777777777778,
              "#fb9f3a"
             ],
             [
              0.8888888888888888,
              "#fdca26"
             ],
             [
              1,
              "#f0f921"
             ]
            ],
            "type": "heatmap"
           }
          ],
          "heatmapgl": [
           {
            "colorbar": {
             "outlinewidth": 0,
             "ticks": ""
            },
            "colorscale": [
             [
              0,
              "#0d0887"
             ],
             [
              0.1111111111111111,
              "#46039f"
             ],
             [
              0.2222222222222222,
              "#7201a8"
             ],
             [
              0.3333333333333333,
              "#9c179e"
             ],
             [
              0.4444444444444444,
              "#bd3786"
             ],
             [
              0.5555555555555556,
              "#d8576b"
             ],
             [
              0.6666666666666666,
              "#ed7953"
             ],
             [
              0.7777777777777778,
              "#fb9f3a"
             ],
             [
              0.8888888888888888,
              "#fdca26"
             ],
             [
              1,
              "#f0f921"
             ]
            ],
            "type": "heatmapgl"
           }
          ],
          "histogram": [
           {
            "marker": {
             "pattern": {
              "fillmode": "overlay",
              "size": 10,
              "solidity": 0.2
             }
            },
            "type": "histogram"
           }
          ],
          "histogram2d": [
           {
            "colorbar": {
             "outlinewidth": 0,
             "ticks": ""
            },
            "colorscale": [
             [
              0,
              "#0d0887"
             ],
             [
              0.1111111111111111,
              "#46039f"
             ],
             [
              0.2222222222222222,
              "#7201a8"
             ],
             [
              0.3333333333333333,
              "#9c179e"
             ],
             [
              0.4444444444444444,
              "#bd3786"
             ],
             [
              0.5555555555555556,
              "#d8576b"
             ],
             [
              0.6666666666666666,
              "#ed7953"
             ],
             [
              0.7777777777777778,
              "#fb9f3a"
             ],
             [
              0.8888888888888888,
              "#fdca26"
             ],
             [
              1,
              "#f0f921"
             ]
            ],
            "type": "histogram2d"
           }
          ],
          "histogram2dcontour": [
           {
            "colorbar": {
             "outlinewidth": 0,
             "ticks": ""
            },
            "colorscale": [
             [
              0,
              "#0d0887"
             ],
             [
              0.1111111111111111,
              "#46039f"
             ],
             [
              0.2222222222222222,
              "#7201a8"
             ],
             [
              0.3333333333333333,
              "#9c179e"
             ],
             [
              0.4444444444444444,
              "#bd3786"
             ],
             [
              0.5555555555555556,
              "#d8576b"
             ],
             [
              0.6666666666666666,
              "#ed7953"
             ],
             [
              0.7777777777777778,
              "#fb9f3a"
             ],
             [
              0.8888888888888888,
              "#fdca26"
             ],
             [
              1,
              "#f0f921"
             ]
            ],
            "type": "histogram2dcontour"
           }
          ],
          "mesh3d": [
           {
            "colorbar": {
             "outlinewidth": 0,
             "ticks": ""
            },
            "type": "mesh3d"
           }
          ],
          "parcoords": [
           {
            "line": {
             "colorbar": {
              "outlinewidth": 0,
              "ticks": ""
             }
            },
            "type": "parcoords"
           }
          ],
          "pie": [
           {
            "automargin": true,
            "type": "pie"
           }
          ],
          "scatter": [
           {
            "marker": {
             "colorbar": {
              "outlinewidth": 0,
              "ticks": ""
             }
            },
            "type": "scatter"
           }
          ],
          "scatter3d": [
           {
            "line": {
             "colorbar": {
              "outlinewidth": 0,
              "ticks": ""
             }
            },
            "marker": {
             "colorbar": {
              "outlinewidth": 0,
              "ticks": ""
             }
            },
            "type": "scatter3d"
           }
          ],
          "scattercarpet": [
           {
            "marker": {
             "colorbar": {
              "outlinewidth": 0,
              "ticks": ""
             }
            },
            "type": "scattercarpet"
           }
          ],
          "scattergeo": [
           {
            "marker": {
             "colorbar": {
              "outlinewidth": 0,
              "ticks": ""
             }
            },
            "type": "scattergeo"
           }
          ],
          "scattergl": [
           {
            "marker": {
             "colorbar": {
              "outlinewidth": 0,
              "ticks": ""
             }
            },
            "type": "scattergl"
           }
          ],
          "scattermapbox": [
           {
            "marker": {
             "colorbar": {
              "outlinewidth": 0,
              "ticks": ""
             }
            },
            "type": "scattermapbox"
           }
          ],
          "scatterpolar": [
           {
            "marker": {
             "colorbar": {
              "outlinewidth": 0,
              "ticks": ""
             }
            },
            "type": "scatterpolar"
           }
          ],
          "scatterpolargl": [
           {
            "marker": {
             "colorbar": {
              "outlinewidth": 0,
              "ticks": ""
             }
            },
            "type": "scatterpolargl"
           }
          ],
          "scatterternary": [
           {
            "marker": {
             "colorbar": {
              "outlinewidth": 0,
              "ticks": ""
             }
            },
            "type": "scatterternary"
           }
          ],
          "surface": [
           {
            "colorbar": {
             "outlinewidth": 0,
             "ticks": ""
            },
            "colorscale": [
             [
              0,
              "#0d0887"
             ],
             [
              0.1111111111111111,
              "#46039f"
             ],
             [
              0.2222222222222222,
              "#7201a8"
             ],
             [
              0.3333333333333333,
              "#9c179e"
             ],
             [
              0.4444444444444444,
              "#bd3786"
             ],
             [
              0.5555555555555556,
              "#d8576b"
             ],
             [
              0.6666666666666666,
              "#ed7953"
             ],
             [
              0.7777777777777778,
              "#fb9f3a"
             ],
             [
              0.8888888888888888,
              "#fdca26"
             ],
             [
              1,
              "#f0f921"
             ]
            ],
            "type": "surface"
           }
          ],
          "table": [
           {
            "cells": {
             "fill": {
              "color": "#EBF0F8"
             },
             "line": {
              "color": "white"
             }
            },
            "header": {
             "fill": {
              "color": "#C8D4E3"
             },
             "line": {
              "color": "white"
             }
            },
            "type": "table"
           }
          ]
         },
         "layout": {
          "annotationdefaults": {
           "arrowcolor": "#2a3f5f",
           "arrowhead": 0,
           "arrowwidth": 1
          },
          "autotypenumbers": "strict",
          "coloraxis": {
           "colorbar": {
            "outlinewidth": 0,
            "ticks": ""
           }
          },
          "colorscale": {
           "diverging": [
            [
             0,
             "#8e0152"
            ],
            [
             0.1,
             "#c51b7d"
            ],
            [
             0.2,
             "#de77ae"
            ],
            [
             0.3,
             "#f1b6da"
            ],
            [
             0.4,
             "#fde0ef"
            ],
            [
             0.5,
             "#f7f7f7"
            ],
            [
             0.6,
             "#e6f5d0"
            ],
            [
             0.7,
             "#b8e186"
            ],
            [
             0.8,
             "#7fbc41"
            ],
            [
             0.9,
             "#4d9221"
            ],
            [
             1,
             "#276419"
            ]
           ],
           "sequential": [
            [
             0,
             "#0d0887"
            ],
            [
             0.1111111111111111,
             "#46039f"
            ],
            [
             0.2222222222222222,
             "#7201a8"
            ],
            [
             0.3333333333333333,
             "#9c179e"
            ],
            [
             0.4444444444444444,
             "#bd3786"
            ],
            [
             0.5555555555555556,
             "#d8576b"
            ],
            [
             0.6666666666666666,
             "#ed7953"
            ],
            [
             0.7777777777777778,
             "#fb9f3a"
            ],
            [
             0.8888888888888888,
             "#fdca26"
            ],
            [
             1,
             "#f0f921"
            ]
           ],
           "sequentialminus": [
            [
             0,
             "#0d0887"
            ],
            [
             0.1111111111111111,
             "#46039f"
            ],
            [
             0.2222222222222222,
             "#7201a8"
            ],
            [
             0.3333333333333333,
             "#9c179e"
            ],
            [
             0.4444444444444444,
             "#bd3786"
            ],
            [
             0.5555555555555556,
             "#d8576b"
            ],
            [
             0.6666666666666666,
             "#ed7953"
            ],
            [
             0.7777777777777778,
             "#fb9f3a"
            ],
            [
             0.8888888888888888,
             "#fdca26"
            ],
            [
             1,
             "#f0f921"
            ]
           ]
          },
          "colorway": [
           "#636efa",
           "#EF553B",
           "#00cc96",
           "#ab63fa",
           "#FFA15A",
           "#19d3f3",
           "#FF6692",
           "#B6E880",
           "#FF97FF",
           "#FECB52"
          ],
          "font": {
           "color": "#2a3f5f"
          },
          "geo": {
           "bgcolor": "white",
           "lakecolor": "white",
           "landcolor": "#E5ECF6",
           "showlakes": true,
           "showland": true,
           "subunitcolor": "white"
          },
          "hoverlabel": {
           "align": "left"
          },
          "hovermode": "closest",
          "mapbox": {
           "style": "light"
          },
          "paper_bgcolor": "white",
          "plot_bgcolor": "#E5ECF6",
          "polar": {
           "angularaxis": {
            "gridcolor": "white",
            "linecolor": "white",
            "ticks": ""
           },
           "bgcolor": "#E5ECF6",
           "radialaxis": {
            "gridcolor": "white",
            "linecolor": "white",
            "ticks": ""
           }
          },
          "scene": {
           "xaxis": {
            "backgroundcolor": "#E5ECF6",
            "gridcolor": "white",
            "gridwidth": 2,
            "linecolor": "white",
            "showbackground": true,
            "ticks": "",
            "zerolinecolor": "white"
           },
           "yaxis": {
            "backgroundcolor": "#E5ECF6",
            "gridcolor": "white",
            "gridwidth": 2,
            "linecolor": "white",
            "showbackground": true,
            "ticks": "",
            "zerolinecolor": "white"
           },
           "zaxis": {
            "backgroundcolor": "#E5ECF6",
            "gridcolor": "white",
            "gridwidth": 2,
            "linecolor": "white",
            "showbackground": true,
            "ticks": "",
            "zerolinecolor": "white"
           }
          },
          "shapedefaults": {
           "line": {
            "color": "#2a3f5f"
           }
          },
          "ternary": {
           "aaxis": {
            "gridcolor": "white",
            "linecolor": "white",
            "ticks": ""
           },
           "baxis": {
            "gridcolor": "white",
            "linecolor": "white",
            "ticks": ""
           },
           "bgcolor": "#E5ECF6",
           "caxis": {
            "gridcolor": "white",
            "linecolor": "white",
            "ticks": ""
           }
          },
          "title": {
           "x": 0.05
          },
          "xaxis": {
           "automargin": true,
           "gridcolor": "white",
           "linecolor": "white",
           "ticks": "",
           "title": {
            "standoff": 15
           },
           "zerolinecolor": "white",
           "zerolinewidth": 2
          },
          "yaxis": {
           "automargin": true,
           "gridcolor": "white",
           "linecolor": "white",
           "ticks": "",
           "title": {
            "standoff": 15
           },
           "zerolinecolor": "white",
           "zerolinewidth": 2
          }
         }
        },
        "title": {
         "text": "Number of unique plays by SS in 2020 season"
        },
        "xaxis": {
         "anchor": "y",
         "domain": [
          0,
          1
         ],
         "title": {
          "text": "NFL ID"
         },
         "type": "category"
        },
        "yaxis": {
         "anchor": "x",
         "domain": [
          0,
          1
         ],
         "title": {
          "text": "Number of unique plays"
         }
        }
       }
      }
     },
     "metadata": {},
     "output_type": "display_data"
    }
   ],
   "source": [
    "#players_df['birthDate'] = pd.to_datetime(players_df['birthDate'], infer_datetime_format = True) \n",
    "#players_df['birthDate'] = np.round((pd.Timestamp.now() - players_df['birthDate']).dt.days/365)\n",
    "#players_df = players_df.rename(columns={'birthDate': 'age'})\n",
    "\n",
    "\n",
    "###Difference between SS, change if you want other positions#####\n",
    "query_string = 'Position == \"SS\"'\n",
    "plot_title = \"Number of unique plays by SS in 2020 season\"\n",
    "\n",
    "pos= players_df.query(query_string)\n",
    "\n",
    "filtered_df = tracking_df.loc[tracking_df['nflId'].isin(pos['nflId'])]\n",
    "filtered_df = filtered_df[[\"nflId\",\"playId\"]]\n",
    "df_temp = filtered_df.groupby(['nflId','playId'])\n",
    "df_unique = df_temp['nflId'].count()\n",
    "print(df_unique)\n",
    "filtered_df = filtered_df.rename({'playId' : 'nUniquePlays'}, axis = 1)\n",
    "df_unique = filtered_df.groupby('nflId').nunique()\n",
    "\n",
    "print(df_unique)\n",
    "y_axis = df_unique.reset_index()['nUniquePlays'].tolist()\n",
    "x_axis = df_unique.reset_index()['nflId'].tolist()\n",
    "\n",
    "fig = px.bar(x = x_axis,y = y_axis,\n",
    "    labels ={\n",
    "        \"x\": \"NFL ID\",\n",
    "        \"y\": \"Number of unique plays\"\n",
    "    }, title = plot_title)\n",
    "fig.update_xaxes(type='category')\n",
    "fig.show()\n"
   ]
  }
 ],
 "metadata": {
  "interpreter": {
   "hash": "1f3fbfa1260d9b0cb9d531ed4e1701d043db55eace031f09641d28da26ab9d94"
  },
  "kernelspec": {
   "display_name": "Python 3.10.0 64-bit ('BDI': conda)",
   "language": "python",
   "name": "python3"
  },
  "language_info": {
   "codemirror_mode": {
    "name": "ipython",
    "version": 3
   },
   "file_extension": ".py",
   "mimetype": "text/x-python",
   "name": "python",
   "nbconvert_exporter": "python",
   "pygments_lexer": "ipython3",
   "version": "3.10.0"
  },
  "orig_nbformat": 4
 },
 "nbformat": 4,
 "nbformat_minor": 2
}
